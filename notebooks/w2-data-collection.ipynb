{
 "cells": [
  {
   "cell_type": "markdown",
   "metadata": {
    "slideshow": {
     "slide_type": "slide"
    }
   },
   "source": [
    "# Big Data for Public Policy\n",
    "\n",
    "## Scraping the Internet to Collect Data\n",
    "\n",
    "## [Malka Guillot]()\n",
    "\n",
    "## ETH Zürich | [860-0033-00L](https://malkipp.github.io/big_data_policy_2021/)"
   ]
  },
  {
   "cell_type": "markdown",
   "metadata": {
    "slideshow": {
     "slide_type": "subslide"
    }
   },
   "source": [
    "## Outline\n",
    "1. Introduction\n",
    "2. HTML: scraping and parsing\n",
    "3. Web APIs\n",
    "\n",
    "**Topics of this coding session**\n",
    "- Gathering (unstructured) web data and transforming it into structureddata (“web scraping”).\n",
    "- Accessing data on the web: APIs."
   ]
  },
  {
   "cell_type": "markdown",
   "metadata": {
    "slideshow": {
     "slide_type": "slide"
    }
   },
   "source": [
    "## Intro"
   ]
  },
  {
   "cell_type": "markdown",
   "metadata": {
    "slideshow": {
     "slide_type": "subslide"
    }
   },
   "source": [
    "#### General interest references: \n",
    "-  Edelman, Benjamin. 2012. [\"Using Internet Data for Economic Research.\"](https://pubs.aeaweb.org/doi/pdfplus/10.1257/jep.26.2.189) Journal of Economic Perspectives, 26 (2): 189-206. \n",
    "-  Cavallo, Alberto, and Roberto Rigobon. 2016. [\"The Billion Prices Project: Using Online Prices for Measurement and Research.\"](https://pubs.aeaweb.org/doi/pdfplus/10.1257/jep.30.2.151) Journal of Economic Perspectives, 30 (2): 151-78. \n",
    "\n",
    "### Coding resources:\n",
    "- [Python's requests & Beautiful Soup libraries](https://blog.hartleybrody.com/web-scraping-cheat-sheet/) (for web scraping & APIs)\n",
    "- Ryan Mitchell, [Web Scraping with Python](https://learning.oreilly.com/library/view/web-scraping-with/9781491985564/), O'Reilly Media, 2018"
   ]
  },
  {
   "cell_type": "markdown",
   "metadata": {
    "slideshow": {
     "slide_type": "subslide"
    }
   },
   "source": [
    "### What is webscraping ?\n",
    "<center>\n",
    "<div class=\"r-stack\"><img src=\"images/screenscraping.png\" style=\"height: 400px;\" > </div>\n",
    "</center>\n",
    "\n",
    "Source: [SICSS](https://compsocialscience.github.io) "
   ]
  },
  {
   "cell_type": "markdown",
   "metadata": {
    "slideshow": {
     "slide_type": "subslide"
    }
   },
   "source": [
    "### What is Web Scraping?\n",
    "- Process of **gathering information** from the Internet\n",
    "    - structure or unstructured info\n",
    "- Involves **automation** \n",
    "\n",
    "### Challenges of Web Scraping\n",
    "- **Variety**. Every website is different.\n",
    "- **Durability**. Websites constantly change.\n",
    "\n",
    "### Points to keep in mind:\n",
    "- It may or may not be legal\n",
    "    - Loop at websites’ terms of service and robots.txt files\n",
    "- Webscraping is tedious and frustrating"
   ]
  },
  {
   "cell_type": "markdown",
   "metadata": {
    "slideshow": {
     "slide_type": "subslide"
    }
   },
   "source": [
    "### Motivation\n",
    "\n",
    "**Publication of crawling papers by year**\n",
    "\n",
    "<center>\n",
    "    \n",
    "<div class=\"r-stack\"><img src=\"images/publication_crawling_papers_by_year.png\" style=\"height: 400px;\" > </div>\n",
    "</center>\n",
    "\n",
    "*Source*: Claussen, Jörg and Peukert, Christian, **[Obtaining Data from the Internet: A Guide to Data Crawling in Management Research](https://ssrn.com/abstract=3403799)** (June 2019). \n"
   ]
  },
  {
   "cell_type": "markdown",
   "metadata": {
    "slideshow": {
     "slide_type": "subslide"
    }
   },
   "source": [
    "### Example of data\n",
    "\n",
    "- **Online markets**: housing, job, goods\n",
    "- **Social media**: Twitter, Facebook, Wechat, newspaper text\n",
    "- **Historical data** using the internet Archives"
   ]
  },
  {
   "cell_type": "markdown",
   "metadata": {
    "slideshow": {
     "slide_type": "subslide"
    }
   },
   "source": [
    "### Getting started: Things to consider before you begin\n",
    "- Send an email to try to get the data directly\n",
    "- Search if somebody has already faced the same or a similar problem.\n",
    "- Does the site or service provide an API that you can access directly?\n",
    "- Is the website only online for a limited time? Do you want an original snapshot as a backup? Is it more convenient to filter your data offline?\n",
    "- Which  `python package` is needed? "
   ]
  },
  {
   "cell_type": "markdown",
   "metadata": {
    "slideshow": {
     "slide_type": "subslide"
    }
   },
   "source": [
    "### Most important python library for data collection##\n",
    "- Standard: \n",
    "    - `Requests`\n",
    "    - `Beautiful Soup`\n",
    "- More advanced\n",
    "    - `Scrapy` [documentation](https://docs.scrapy.org/en/latest/)\n",
    "    - `Selenium`\n",
    "\n",
    "$+$ installing the package:"
   ]
  },
  {
   "cell_type": "code",
   "execution_count": 1,
   "metadata": {},
   "outputs": [
    {
     "name": "stdout",
     "output_type": "stream",
     "text": [
      "Requirement already satisfied: BeautifulSoup4 in c:\\users\\micha\\anaconda3\\lib\\site-packages (4.9.3)\n",
      "Requirement already satisfied: soupsieve>1.2; python_version >= \"3.0\" in c:\\users\\micha\\anaconda3\\lib\\site-packages (from BeautifulSoup4) (2.0.1)\n",
      "Note: you may need to restart the kernel to use updated packages.\n"
     ]
    }
   ],
   "source": [
    "pip install BeautifulSoup4"
   ]
  },
  {
   "cell_type": "markdown",
   "metadata": {
    "slideshow": {
     "slide_type": "subslide"
    }
   },
   "source": [
    "### Load packages"
   ]
  },
  {
   "cell_type": "code",
   "execution_count": 2,
   "metadata": {
    "slideshow": {
     "slide_type": "-"
    }
   },
   "outputs": [],
   "source": [
    "# Import packages + set options\n",
    "from IPython.display import display\n",
    "import json\n",
    "import pandas as pd\n",
    "pd.options.display.max_columns = None # Display all columns of a dataframe\n",
    "pd.options.display.max_rows = 700\n",
    "from pprint import pprint\n",
    "import re"
   ]
  },
  {
   "cell_type": "markdown",
   "metadata": {
    "slideshow": {
     "slide_type": "subslide"
    }
   },
   "source": [
    "### Data communication for the World Wide Web \n",
    "\n",
    "- `HTTP protocol`= way of communication between the client (browser) and the web server \n",
    "    - no encryption $\\rightarrow$ not safe\n",
    "- `HTTPS protocol`= S for secured\n",
    "\n",
    "$\\Rightarrow $ works by doing `Requests` and `Responses`"
   ]
  },
  {
   "cell_type": "markdown",
   "metadata": {
    "slideshow": {
     "slide_type": "subslide"
    }
   },
   "source": [
    "### Static vs. dynamic websites \n",
    "![](https://about.gitlab.com/images/blogimages/ssg-gitlab-pages-series/part-1-dynamic-x-static-server.png)\n",
    "\n",
    "Notes: \n",
    "- **Static Websites**: the server that hosts the site sends back HTML documents that already contain all the data you’ll get to see as a user."
   ]
  },
  {
   "cell_type": "markdown",
   "metadata": {
    "slideshow": {
     "slide_type": "subslide"
    }
   },
   "source": [
    "### Request and Response\n",
    "\n",
    "all interactions between a client and a web server are split into a request and a response:\n",
    "\n",
    "- `Requests` contain relevant data regarding your request call:\n",
    "    - base URL \\[ More on this for API: the endpoint, the method used, the headers, and so on.\\]\n",
    "- `Responses` contain relevant data returned by the server:\n",
    "    - the data or content, the status code, and the headers."
   ]
  },
  {
   "cell_type": "code",
   "execution_count": 3,
   "metadata": {},
   "outputs": [],
   "source": [
    "import requests\n",
    "url='https://ballotpedia.org/List_of_current_members_of_the_U.S._Congress'\n",
    "response = requests.get(url)"
   ]
  },
  {
   "cell_type": "markdown",
   "metadata": {
    "slideshow": {
     "slide_type": "subslide"
    }
   },
   "source": [
    "### `Request`'s attributes"
   ]
  },
  {
   "cell_type": "code",
   "execution_count": 4,
   "metadata": {},
   "outputs": [
    {
     "name": "stdout",
     "output_type": "stream",
     "text": [
      "request:  <PreparedRequest [GET]>\n",
      "-----\n",
      "url:  https://ballotpedia.org/List_of_current_members_of_the_U.S._Congress\n",
      "-----\n",
      "path_url:  /List_of_current_members_of_the_U.S._Congress\n",
      "-----\n",
      "Method:  GET\n",
      "-----\n",
      "Method:  {'User-Agent': 'python-requests/2.24.0', 'Accept-Encoding': 'gzip, deflate', 'Accept': '*/*', 'Connection': 'keep-alive'}\n"
     ]
    }
   ],
   "source": [
    "request = response.request\n",
    "print('request: ',request)\n",
    "print('-----')\n",
    "print('url: ',request.url)\n",
    "print('-----')\n",
    "print('path_url: ', request.path_url)\n",
    "print('-----')\n",
    "print('Method: ', request.method)\n",
    "print('-----')\n",
    "print('Method: ', request.headers)"
   ]
  },
  {
   "cell_type": "markdown",
   "metadata": {
    "slideshow": {
     "slide_type": "subslide"
    }
   },
   "source": [
    "### `Response`'s attributes\n",
    "\n",
    "- `.text` returns the response contents in Unicode format\n",
    "- `.content` returns the response contents in bytes."
   ]
  },
  {
   "cell_type": "code",
   "execution_count": 5,
   "metadata": {},
   "outputs": [
    {
     "name": "stdout",
     "output_type": "stream",
     "text": [
      " <Response [200]>\n",
      "-----\n",
      "Text: <!DOCTYPE \n",
      "-----\n",
      "Status_code: 200\n",
      "-----\n",
      "hHeaders: {'Accept-Ranges': 'bytes', 'Age': '0', 'Cache-Control': 's-maxage=900, must-revalidate, max-age=0', 'Content-Encoding': 'gzip', 'Content-language': 'en', 'Content-Type': 'text/html; charset=UTF-8', 'Date': 'Sun, 07 Mar 2021 22:35:59 GMT', 'Last-Modified': 'Sun, 07 Mar 2021 22:20:57 GMT', 'Link': '</wiki/skins/common/images/bplogo.png?e1b99>;rel=preload;as=image', 'Server': 'Apache', 'Vary': 'Accept-Encoding,Cookie', 'Via': '1.1 varnish', 'X-Cache': 'MISS', 'X-Cache-Expires': '', 'X-Cacheable': 'YES', 'X-Content-Type-Options': 'nosniff', 'X-UA-Compatible': 'IE=Edge', 'X-Varnish': '1014050374', 'Content-Length': '43095', 'Connection': 'keep-alive'}\n"
     ]
    }
   ],
   "source": [
    "print('', response)\n",
    "print('-----')\n",
    "print('Text:', response.text[:10])\n",
    "print('-----')\n",
    "print('Status_code:', response.status_code)\n",
    "print('-----')\n",
    "print('hHeaders:', response.headers)"
   ]
  },
  {
   "cell_type": "markdown",
   "metadata": {
    "slideshow": {
     "slide_type": "subslide"
    }
   },
   "source": [
    "### Status Codes\n",
    "\n",
    "**Important information**: \n",
    "if your request was successful, if it’s missing data, if it’s missing credentials"
   ]
  },
  {
   "cell_type": "markdown",
   "metadata": {
    "slideshow": {
     "slide_type": "subslide"
    }
   },
   "source": [
    "<center>    \n",
    "<div class=\"r-stack\"><img src=\"https://softcrony.com/blog/wp-content/uploads/2020/07/http-code.png\" style=\"height: 400px;\" > </div>\n",
    "</center>"
   ]
  },
  {
   "cell_type": "markdown",
   "metadata": {
    "slideshow": {
     "slide_type": "slide"
    }
   },
   "source": [
    "## Scraping & Parsing in Practice"
   ]
  },
  {
   "cell_type": "markdown",
   "metadata": {
    "slideshow": {
     "slide_type": "subslide"
    }
   },
   "source": [
    "### STEPS:\n",
    "1. Inspect Your Data Source\n",
    "1.  Scrape HTML Content From a Page\n",
    "1.  Parse HTML Code With Beautiful Soup"
   ]
  },
  {
   "cell_type": "markdown",
   "metadata": {
    "slideshow": {
     "slide_type": "subslide"
    }
   },
   "source": [
    "## Step 1: Inspect Your Data Source\n",
    "\n",
    "### Explore the Website \n",
    "\n",
    "**Objective**: understanding its underlying structure\n",
    "\n",
    "We will scrape the list of current members of the U.S. Congress"
   ]
  },
  {
   "cell_type": "markdown",
   "metadata": {
    "slideshow": {
     "slide_type": "subslide"
    }
   },
   "source": [
    "### Website example for today\n",
    "\n",
    "\n",
    "<center>\n",
    "<div class=\"r-stack\"><img src=\"images/ballotpedia.png\" style=\"height: 400px;\" > </div>\n",
    "</center>\n",
    "\n",
    "Source: [ballotpedia website](https://ballotpedia.org/List_of_current_members_of_the_U.S._Congress) \n"
   ]
  },
  {
   "cell_type": "markdown",
   "metadata": {
    "slideshow": {
     "slide_type": "subslide"
    }
   },
   "source": [
    "### Understanding URLs\n",
    "- **Base URL**: https://ballotpedia.org/List_of_current_members_of_the_U.S._Congress\n",
    "- More complex URL with query parameter https://ballotpedia.org/wiki/index.php?search=jerry\n",
    "    - query parameter=`p?search=jerry`\n",
    "    - can be used to crawl websites if you have a list of queries that you want to loop over (e.g. dates, localities...)\n",
    "    - query structure:\n",
    "        - *Start*: `?`\n",
    "        - *Information*: pieces of information constituting one query parameter are encoded in key-value pairs, where related keys and values are joined together by an equals sign (key=value). \n",
    "        - *Separator*: `&` -> if multiple query parameters \n",
    "        \n",
    "Other example of URL: https://opendata.swiss/en/dataset?political_level=commune&q=health. "
   ]
  },
  {
   "cell_type": "markdown",
   "metadata": {
    "slideshow": {
     "slide_type": "subslide"
    }
   },
   "source": [
    "<div class=\"alert alert-info\">\n",
    "<h3> Your turn</h3>\n",
    "<p> Try to change the search and selection parameters and observe how that affects your URL. \n",
    "<p>   Next, try to change the values directly in your URL. See what happens when you paste the following URL into your browser’s address bar:\n",
    "</div>"
   ]
  },
  {
   "cell_type": "code",
   "execution_count": null,
   "metadata": {},
   "outputs": [],
   "source": []
  },
  {
   "cell_type": "markdown",
   "metadata": {
    "slideshow": {
     "slide_type": "fragment"
    }
   },
   "source": [
    "**Conclusion**: When you explore URLs, you can get information on how to retrieve data from the website’s server."
   ]
  },
  {
   "cell_type": "markdown",
   "metadata": {
    "slideshow": {
     "slide_type": "slide"
    }
   },
   "source": [
    "### Inspect the site: Using Developer Tools\n",
    "We use the `inspect` function (right click) to access the underlying HTML interactively. \n",
    "\n",
    "<center>\n",
    "<div class=\"r-stack\"><img src=\"images/ballotpedia_inspect.png\" style=\"height: 400px;\" > </div>\n",
    "</center>\n"
   ]
  },
  {
   "cell_type": "markdown",
   "metadata": {
    "slideshow": {
     "slide_type": "subslide"
    }
   },
   "source": [
    "### Developer tools\n",
    "- Developer tools can help you understand the structure of a website\n",
    "- I use it in firefox, but exists for most browsers\n",
    "- Interactively explore the source html & the webpage\n",
    "\n",
    "**`html` is great but intricated $\\Rightarrow$ sublimed by `beautifulsoup`** "
   ]
  },
  {
   "cell_type": "markdown",
   "metadata": {
    "slideshow": {
     "slide_type": "subslide"
    }
   },
   "source": [
    "##  Step 2: Scrape HTML Content From a Page"
   ]
  },
  {
   "cell_type": "code",
   "execution_count": 6,
   "metadata": {},
   "outputs": [
    {
     "data": {
      "text/plain": [
       "'<!DOCTYPE html>\\n<html class=\"client-nojs\" lang=\"en\" dir=\"ltr\">\\n<head>\\n<meta charset=\"UTF-8\"/>\\n<title>List of current members of the U.S. Congress - Ballotpedia</title>\\n<script>document.documentElement.className = document.documentElement.className.replace( /(^|\\\\s)client-nojs(\\\\s|$)/, \"$1client-js$2\" );</script>\\n<script>(window.RLQ=window.RLQ||[]).push(function(){mw.config.set({\"wgCanonicalNamespace\":\"\",\"wgCanonicalSpecialPageName\":false,\"wgNamespaceNumber\":0,\"wgPageName\":\"List_of_current_members_'"
      ]
     },
     "execution_count": 6,
     "metadata": {},
     "output_type": "execute_result"
    }
   ],
   "source": [
    "import requests\n",
    "url='https://ballotpedia.org/List_of_current_members_of_the_U.S._Congress'\n",
    "response = requests.get(url)\n",
    "html=response.text\n",
    "html[:500]"
   ]
  },
  {
   "cell_type": "markdown",
   "metadata": {
    "slideshow": {
     "slide_type": "fragment"
    }
   },
   "source": [
    "html looks messy.\n",
    "\n",
    "Using the `prettify()` function from `BeautifulSoup` helps"
   ]
  },
  {
   "cell_type": "code",
   "execution_count": 7,
   "metadata": {
    "slideshow": {
     "slide_type": "subslide"
    }
   },
   "outputs": [
    {
     "name": "stdout",
     "output_type": "stream",
     "text": [
      "<!DOCTYPE html>\n",
      "<html class=\"client-nojs\" dir=\"ltr\" lang=\"en\">\n",
      " <head>\n",
      "  <meta charset=\"utf-8\"/>\n",
      "  <title>\n",
      "   List of current members of the U.S. Congress - Ballotpedia\n",
      "  </title>\n",
      "  <script>\n",
      "   document.documentElement.className = document.documentElement.className.replace( /(^|\\s)client-nojs(\\s|$)/, \"$1client-js$2\" );\n",
      "  </script>\n",
      "  <script>\n",
      "   (window.RLQ=window.RLQ||[]).push(function(){mw.config.set({\"wgCanonicalNamespace\":\"\",\"wgCanonicalSpecialPageName\":false,\"wgNamespaceNumber\":0,\"wgPageName\":\"List_of_current_members_of_the_U.S._Congress\",\"wgTitle\":\"List of current members of the U.S. Congress\",\"wgCurRevisionId\":8246683,\"wgRevisionId\":8246683,\"wgArticleId\":180048,\"wgIsArticle\":true,\"wgIsRedirect\":false,\"wgAction\":\"view\",\"wgUserName\":null,\"wgUserGroups\":[\"*\"],\"wgCategories\":[\"Unique congress pages\"],\"wgBreakFrames\":false,\"wgPageContentLanguage\":\"en\",\"wgPageContentModel\":\"wikitext\",\"wgSeparatorTransformTable\":[\"\",\"\"],\"wgDigitTransformTable\":[\"\",\"\"],\"wgDefaultDateFormat\":\"dmy\",\"wgMont\n"
     ]
    }
   ],
   "source": [
    "# Parse raw HTML\n",
    "from bs4 import BeautifulSoup # package for parsing HTML\n",
    "soup = BeautifulSoup(html, 'html.parser') # parse html of web page\n",
    "print(soup.prettify()[:1000])"
   ]
  },
  {
   "cell_type": "markdown",
   "metadata": {
    "slideshow": {
     "slide_type": "subslide"
    }
   },
   "source": [
    "##  Step 3: Parse HTML Code With Beautiful Soup\n",
    "\n",
    "**Objectif**: extract url of senators from the webpage to build a list of url that will be used for scraping info on senators"
   ]
  },
  {
   "cell_type": "markdown",
   "metadata": {
    "slideshow": {
     "slide_type": "subslide"
    }
   },
   "source": [
    "### Find Elements by ID\n",
    "\n",
    "In an HTML web page, every element can have an id attribute assigned. \n",
    "\n",
    "Can be used to directly access the element. "
   ]
  },
  {
   "cell_type": "code",
   "execution_count": 8,
   "metadata": {},
   "outputs": [
    {
     "name": "stdout",
     "output_type": "stream",
     "text": [
      "<span class=\"mw-headline\" id=\"Leadership_and_partisan_balance\">\n",
      " Leadership and partisan balance\n",
      "</span>\n"
     ]
    }
   ],
   "source": [
    "balance=soup.find(id='Leadership_and_partisan_balance')\n",
    "print(balance.prettify()[:500])"
   ]
  },
  {
   "cell_type": "markdown",
   "metadata": {},
   "source": [
    "<div class=\"alert alert-info\">\n",
    "<h3> Your turn</h3>\n",
    "<p> Find the id & get the soup for the table entitled *List of current U.S. Senate members*. \n",
    "</div>"
   ]
  },
  {
   "cell_type": "code",
   "execution_count": 9,
   "metadata": {
    "slideshow": {
     "slide_type": "fragment"
    }
   },
   "outputs": [
    {
     "name": "stdout",
     "output_type": "stream",
     "text": [
      "<table class=\"bptable gray sortable\" id=\"officeholder-table\" style=\"width:auto; border-bottom:1px solid #bcbcbc;\">\n",
      " <thead>\n",
      "  <tr colspan=\"4\" style=\"background:#4c4c4c!important;color:#fff!important;text-align:center;padding: 7px 8px 8px;margin-bottom:4px;\">\n",
      "   <th>\n",
      "    Office\n",
      "   </th>\n",
      "   <p>\n",
      "    <br/>\n",
      "   </p>\n",
      "   <th>\n",
      "    Name\n",
      "   </th>\n",
      "   <th>\n",
      "    Party\n",
      "   </th>\n",
      "   <th>\n",
      "    Date assumed office\n",
      "   </th>\n",
      "  </tr>\n",
      " </thead>\n",
      " <tr>\n",
      "  <td style=\"padding-left:10px;\">\n",
      "   <a href=\"https://ballotpedia.org/\n"
     ]
    }
   ],
   "source": [
    "officeholder_table = soup.find(id='officeholder-table')\n",
    "print(officeholder_table.prettify()[:500])"
   ]
  },
  {
   "cell_type": "markdown",
   "metadata": {},
   "source": [
    "### Find Elements by HTML Class Name\n",
    "Because the result is not unique `find_all` instead of `find`. \n",
    "\n",
    "Lets' rely on the html structure to find the row of the table"
   ]
  },
  {
   "cell_type": "code",
   "execution_count": 10,
   "metadata": {},
   "outputs": [
    {
     "data": {
      "text/plain": [
       "<thead>\n",
       "<tr colspan=\"4\" style=\"background:#4c4c4c!important;color:#fff!important;text-align:center;padding: 7px 8px 8px;margin-bottom:4px;\">\n",
       "<th>Office</th>\n",
       "<p><br/>\n",
       "</p>\n",
       "<th>Name</th>\n",
       "<th>Party</th>\n",
       "<th>Date assumed office</th>\n",
       "</tr>\n",
       "</thead>"
      ]
     },
     "execution_count": 10,
     "metadata": {},
     "output_type": "execute_result"
    }
   ],
   "source": [
    "thead= officeholder_table.find('thead')\n",
    "thead"
   ]
  },
  {
   "cell_type": "code",
   "execution_count": 11,
   "metadata": {},
   "outputs": [
    {
     "data": {
      "text/plain": [
       "101"
      ]
     },
     "execution_count": 11,
     "metadata": {},
     "output_type": "execute_result"
    }
   ],
   "source": [
    "rows=officeholder_table.find_all('tr')\n",
    "len(rows) # consistent: 100 members + headline"
   ]
  },
  {
   "cell_type": "markdown",
   "metadata": {
    "slideshow": {
     "slide_type": "subslide"
    }
   },
   "source": [
    "### Let's try to get the `url` for one example row:"
   ]
  },
  {
   "cell_type": "code",
   "execution_count": 12,
   "metadata": {},
   "outputs": [
    {
     "data": {
      "text/plain": [
       "<tr>\n",
       "<td style=\"padding-left:10px;\"><a href=\"https://ballotpedia.org/List_of_United_States_Senators_from_Kansas\">U.S. Senate Kansas</a></td>\n",
       "<td style=\"padding-left:10px;text-align:center;\"><a href=\"https://ballotpedia.org/Jerry_Moran\">Jerry Moran</a></td>\n",
       "<td class=\"partytd Republican\">Republican </td>\n",
       "<td style=\"text-align:center;\">January 5, 2011</td>\n",
       "<tr>\n",
       "<td style=\"padding-left:10px;\"><a href=\"https://ballotpedia.org/List_of_United_States_Senators_from_Kansas\">U.S. Senate Kansas</a></td>\n",
       "<td style=\"padding-left:10px;text-align:center;\"><a href=\"https://ballotpedia.org/Roger_Marshall\">Roger Marshall</a></td>\n",
       "<td class=\"partytd Republican\">Republican </td>\n",
       "<td style=\"text-align:center;\">January 3, 2021</td>\n",
       "<tr>\n",
       "<td style=\"padding-left:10px;\"><a href=\"https://ballotpedia.org/List_of_United_States_Senators_from_Michigan\">U.S. Senate Michigan</a></td>\n",
       "<td style=\"padding-left:10px;text-align:center;\"><a href=\"https://ballotpedia.org/Gary_Peters\">Gary Peters</a></td>\n",
       "<td class=\"partytd Democratic\">Democratic </td>\n",
       "<td style=\"text-align:center;\">January 6, 2015</td>\n",
       "<tr>\n",
       "<td style=\"padding-left:10px;\"><a href=\"https://ballotpedia.org/List_of_United_States_Senators_from_Michigan\">U.S. Senate Michigan</a></td>\n",
       "<td style=\"padding-left:10px;text-align:center;\"><a href=\"https://ballotpedia.org/Debbie_Stabenow\">Debbie Stabenow</a></td>\n",
       "<td class=\"partytd Democratic\">Democratic </td>\n",
       "<td style=\"text-align:center;\">January 3, 2001</td>\n",
       "<tr>\n",
       "<td style=\"padding-left:10px;\"><a href=\"https://ballotpedia.org/List_of_United_States_Senators_from_Virginia\">U.S. Senate Virginia</a></td>\n",
       "<td style=\"padding-left:10px;text-align:center;\"><a href=\"https://ballotpedia.org/Tim_Kaine\">Tim Kaine</a></td>\n",
       "<td class=\"partytd Democratic\">Democratic </td>\n",
       "<td style=\"text-align:center;\">January 3, 2013</td>\n",
       "<tr>\n",
       "<td style=\"padding-left:10px;\"><a href=\"https://ballotpedia.org/List_of_United_States_Senators_from_Virginia\">U.S. Senate Virginia</a></td>\n",
       "<td style=\"padding-left:10px;text-align:center;\"><a href=\"https://ballotpedia.org/Mark_Warner\">Mark Warner</a></td>\n",
       "<td class=\"partytd Democratic\">Democratic </td>\n",
       "<td style=\"text-align:center;\">January 6, 2009</td>\n",
       "<tr>\n",
       "<td style=\"padding-left:10px;\"><a href=\"https://ballotpedia.org/List_of_United_States_Senators_from_Maryland\">U.S. Senate Maryland</a></td>\n",
       "<td style=\"padding-left:10px;text-align:center;\"><a href=\"https://ballotpedia.org/Chris_Van_Hollen\">Chris Van Hollen</a></td>\n",
       "<td class=\"partytd Democratic\">Democratic </td>\n",
       "<td style=\"text-align:center;\">January 3, 2017</td>\n",
       "<tr>\n",
       "<td style=\"padding-left:10px;\"><a href=\"https://ballotpedia.org/List_of_United_States_Senators_from_Maryland\">U.S. Senate Maryland</a></td>\n",
       "<td style=\"padding-left:10px;text-align:center;\"><a href=\"https://ballotpedia.org/Ben_Cardin\">Ben Cardin</a></td>\n",
       "<td class=\"partytd Democratic\">Democratic </td>\n",
       "<td style=\"text-align:center;\">January 4, 2007</td>\n",
       "<tr>\n",
       "<td style=\"padding-left:10px;\"><a href=\"https://ballotpedia.org/List_of_United_States_Senators_from_California\">U.S. Senate California</a></td>\n",
       "<td style=\"padding-left:10px;text-align:center;\"><a href=\"https://ballotpedia.org/Dianne_Feinstein\">Dianne Feinstein</a></td>\n",
       "<td class=\"partytd Democratic\">Democratic </td>\n",
       "<td style=\"text-align:center;\">1993</td>\n",
       "<tr>\n",
       "<td style=\"padding-left:10px;\"><a href=\"https://ballotpedia.org/List_of_United_States_Senators_from_California\">U.S. Senate California</a></td>\n",
       "<td style=\"padding-left:10px;text-align:center;\"><a href=\"https://ballotpedia.org/Alex_Padilla\">Alex Padilla</a></td>\n",
       "<td class=\"partytd Democratic\">Democratic </td>\n",
       "<td style=\"text-align:center;\">January 20, 2021</td>\n",
       "<tr>\n",
       "<td style=\"padding-left:10px;\"><a href=\"https://ballotpedia.org/List_of_United_States_Senators_from_Indiana\">U.S. Senate Indiana</a></td>\n",
       "<td style=\"padding-left:10px;text-align:center;\"><a href=\"https://ballotpedia.org/Mike_Braun\">Mike Braun</a></td>\n",
       "<td class=\"partytd Republican\">Republican </td>\n",
       "<td style=\"text-align:center;\">January 3, 2019</td>\n",
       "<tr>\n",
       "<td style=\"padding-left:10px;\"><a href=\"https://ballotpedia.org/List_of_United_States_Senators_from_Indiana\">U.S. Senate Indiana</a></td>\n",
       "<td style=\"padding-left:10px;text-align:center;\"><a href=\"https://ballotpedia.org/Todd_Young\">Todd C. Young</a></td>\n",
       "<td class=\"partytd Republican\">Republican </td>\n",
       "<td style=\"text-align:center;\">January 3, 2017</td>\n",
       "<tr>\n",
       "<td style=\"padding-left:10px;\"><a href=\"https://ballotpedia.org/List_of_United_States_Senators_from_Iowa\">U.S. Senate Iowa</a></td>\n",
       "<td style=\"padding-left:10px;text-align:center;\"><a href=\"https://ballotpedia.org/Joni_Ernst\">Joni Ernst</a></td>\n",
       "<td class=\"partytd Republican\">Republican </td>\n",
       "<td style=\"text-align:center;\">January 3, 2015</td>\n",
       "<tr>\n",
       "<td style=\"padding-left:10px;\"><a href=\"https://ballotpedia.org/List_of_United_States_Senators_from_Iowa\">U.S. Senate Iowa</a></td>\n",
       "<td style=\"padding-left:10px;text-align:center;\"><a href=\"https://ballotpedia.org/Chuck_Grassley\">Chuck Grassley</a></td>\n",
       "<td class=\"partytd Republican\">Republican </td>\n",
       "<td style=\"text-align:center;\">1981</td>\n",
       "<tr>\n",
       "<td style=\"padding-left:10px;\"><a href=\"https://ballotpedia.org/List_of_United_States_Senators_from_Wyoming\">U.S. Senate Wyoming</a></td>\n",
       "<td style=\"padding-left:10px;text-align:center;\"><a href=\"https://ballotpedia.org/John_Barrasso\">John Barrasso</a></td>\n",
       "<td class=\"partytd Republican\">Republican </td>\n",
       "<td style=\"text-align:center;\">January 4, 2007</td>\n",
       "<tr>\n",
       "<td style=\"padding-left:10px;\"><a href=\"https://ballotpedia.org/List_of_United_States_Senators_from_Wyoming\">U.S. Senate Wyoming</a></td>\n",
       "<td style=\"padding-left:10px;text-align:center;\"><a href=\"https://ballotpedia.org/Cynthia_Lummis\">Cynthia Lummis</a></td>\n",
       "<td class=\"partytd Republican\">Republican </td>\n",
       "<td style=\"text-align:center;\">January 3, 2021</td>\n",
       "<tr>\n",
       "<td style=\"padding-left:10px;\"><a href=\"https://ballotpedia.org/List_of_United_States_Senators_from_Idaho\">U.S. Senate Idaho</a></td>\n",
       "<td style=\"padding-left:10px;text-align:center;\"><a href=\"https://ballotpedia.org/Mike_Crapo\">Mike Crapo</a></td>\n",
       "<td class=\"partytd Republican\">Republican </td>\n",
       "<td style=\"text-align:center;\">January 6, 1999</td>\n",
       "<tr>\n",
       "<td style=\"padding-left:10px;\"><a href=\"https://ballotpedia.org/List_of_United_States_Senators_from_Idaho\">U.S. Senate Idaho</a></td>\n",
       "<td style=\"padding-left:10px;text-align:center;\"><a href=\"https://ballotpedia.org/Jim_Risch\">Jim Risch</a></td>\n",
       "<td class=\"partytd Republican\">Republican </td>\n",
       "<td style=\"text-align:center;\">2009</td>\n",
       "<tr>\n",
       "<td style=\"padding-left:10px;\"><a href=\"https://ballotpedia.org/List_of_United_States_Senators_from_Illinois\">U.S. Senate Illinois</a></td>\n",
       "<td style=\"padding-left:10px;text-align:center;\"><a href=\"https://ballotpedia.org/Tammy_Duckworth\">Tammy Duckworth</a></td>\n",
       "<td class=\"partytd Democratic\">Democratic </td>\n",
       "<td style=\"text-align:center;\">January 3, 2017</td>\n",
       "<tr>\n",
       "<td style=\"padding-left:10px;\"><a href=\"https://ballotpedia.org/List_of_United_States_Senators_from_Illinois\">U.S. Senate Illinois</a></td>\n",
       "<td style=\"padding-left:10px;text-align:center;\"><a href=\"https://ballotpedia.org/Dick_Durbin\">Dick Durbin</a></td>\n",
       "<td class=\"partytd Democratic\">Democratic </td>\n",
       "<td style=\"text-align:center;\">January 7, 1997</td>\n",
       "<tr>\n",
       "<td style=\"padding-left:10px;\"><a href=\"https://ballotpedia.org/List_of_United_States_Senators_from_Washington\">U.S. Senate Washington</a></td>\n",
       "<td style=\"padding-left:10px;text-align:center;\"><a href=\"https://ballotpedia.org/Maria_Cantwell\">Maria Cantwell</a></td>\n",
       "<td class=\"partytd Democratic\">Democratic </td>\n",
       "<td style=\"text-align:center;\">2001</td>\n",
       "<tr>\n",
       "<td style=\"padding-left:10px;\"><a href=\"https://ballotpedia.org/List_of_United_States_Senators_from_Washington\">U.S. Senate Washington</a></td>\n",
       "<td style=\"padding-left:10px;text-align:center;\"><a href=\"https://ballotpedia.org/Patty_Murray\">Patty Murray</a></td>\n",
       "<td class=\"partytd Democratic\">Democratic </td>\n",
       "<td style=\"text-align:center;\">1993</td>\n",
       "<tr>\n",
       "<td style=\"padding-left:10px;\"><a href=\"https://ballotpedia.org/List_of_United_States_Senators_from_Oregon\">U.S. Senate Oregon</a></td>\n",
       "<td style=\"padding-left:10px;text-align:center;\"><a href=\"https://ballotpedia.org/Jeff_Merkley\">Jeff Merkley</a></td>\n",
       "<td class=\"partytd Democratic\">Democratic </td>\n",
       "<td style=\"text-align:center;\">2009</td>\n",
       "<tr>\n",
       "<td style=\"padding-left:10px;\"><a href=\"https://ballotpedia.org/List_of_United_States_Senators_from_Oregon\">U.S. Senate Oregon</a></td>\n",
       "<td style=\"padding-left:10px;text-align:center;\"><a href=\"https://ballotpedia.org/Ron_Wyden\">Ron Wyden</a></td>\n",
       "<td class=\"partytd Democratic\">Democratic </td>\n",
       "<td style=\"text-align:center;\">January 30, 1996</td>\n",
       "<tr>\n",
       "<td style=\"padding-left:10px;\"><a href=\"https://ballotpedia.org/List_of_United_States_Senators_from_Wisconsin\">U.S. Senate Wisconsin</a></td>\n",
       "<td style=\"padding-left:10px;text-align:center;\"><a href=\"https://ballotpedia.org/Ron_Johnson_(Wisconsin)\">Ronald Harold Johnson</a></td>\n",
       "<td class=\"partytd Republican\">Republican </td>\n",
       "<td style=\"text-align:center;\">2010</td>\n",
       "<tr>\n",
       "<td style=\"padding-left:10px;\"><a href=\"https://ballotpedia.org/List_of_United_States_Senators_from_Wisconsin\">U.S. Senate Wisconsin</a></td>\n",
       "<td style=\"padding-left:10px;text-align:center;\"><a href=\"https://ballotpedia.org/Tammy_Baldwin\">Tammy Baldwin</a></td>\n",
       "<td class=\"partytd Democratic\">Democratic </td>\n",
       "<td style=\"text-align:center;\">January 3, 2013</td>\n",
       "<tr>\n",
       "<td style=\"padding-left:10px;\"><a href=\"https://ballotpedia.org/List_of_United_States_Senators_from_New_York\">U.S. Senate New York</a></td>\n",
       "<td style=\"padding-left:10px;text-align:center;\"><a href=\"https://ballotpedia.org/Chuck_Schumer\">Chuck Schumer</a></td>\n",
       "<td class=\"partytd Democratic\">Democratic </td>\n",
       "<td style=\"text-align:center;\">January 6, 1999</td>\n",
       "<tr>\n",
       "<td style=\"padding-left:10px;\"><a href=\"https://ballotpedia.org/List_of_United_States_Senators_from_New_York\">U.S. Senate New York</a></td>\n",
       "<td style=\"padding-left:10px;text-align:center;\"><a href=\"https://ballotpedia.org/Kirsten_Gillibrand\">Kirsten Gillibrand</a></td>\n",
       "<td class=\"partytd Democratic\">Democratic </td>\n",
       "<td style=\"text-align:center;\">January 26, 2009</td>\n",
       "<tr>\n",
       "<td style=\"padding-left:10px;\"><a href=\"https://ballotpedia.org/List_of_United_States_Senators_from_Arkansas\">U.S. Senate Arkansas</a></td>\n",
       "<td style=\"padding-left:10px;text-align:center;\"><a href=\"https://ballotpedia.org/Tom_Cotton\">Tom Cotton</a></td>\n",
       "<td class=\"partytd Republican\">Republican </td>\n",
       "<td style=\"text-align:center;\">January 6, 2015</td>\n",
       "<tr>\n",
       "<td style=\"padding-left:10px;\"><a href=\"https://ballotpedia.org/List_of_United_States_Senators_from_Arkansas\">U.S. Senate Arkansas</a></td>\n",
       "<td style=\"padding-left:10px;text-align:center;\"><a href=\"https://ballotpedia.org/John_Boozman\">John Boozman</a></td>\n",
       "<td class=\"partytd Republican\">Republican </td>\n",
       "<td style=\"text-align:center;\">January 5, 2011</td>\n",
       "<tr>\n",
       "<td style=\"padding-left:10px;\"><a href=\"https://ballotpedia.org/List_of_United_States_Senators_from_Minnesota\">U.S. Senate Minnesota</a></td>\n",
       "<td style=\"padding-left:10px;text-align:center;\"><a href=\"https://ballotpedia.org/Tina_Smith\">Tina Smith</a></td>\n",
       "<td class=\"partytd Democratic\">Democratic </td>\n",
       "<td style=\"text-align:center;\">January 3, 2018</td>\n",
       "<tr>\n",
       "<td style=\"padding-left:10px;\"><a href=\"https://ballotpedia.org/List_of_United_States_Senators_from_Minnesota\">U.S. Senate Minnesota</a></td>\n",
       "<td style=\"padding-left:10px;text-align:center;\"><a href=\"https://ballotpedia.org/Amy_Klobuchar\">Amy Klobuchar</a></td>\n",
       "<td class=\"partytd Democratic\">Democratic </td>\n",
       "<td style=\"text-align:center;\">January 4, 2007</td>\n",
       "<tr>\n",
       "<td style=\"padding-left:10px;\"><a href=\"https://ballotpedia.org/List_of_United_States_Senators_from_Texas\">U.S. Senate Texas</a></td>\n",
       "<td style=\"padding-left:10px;text-align:center;\"><a href=\"https://ballotpedia.org/Ted_Cruz\">Ted Cruz</a></td>\n",
       "<td class=\"partytd Republican\">Republican </td>\n",
       "<td style=\"text-align:center;\">January 3, 2013</td>\n",
       "<tr>\n",
       "<td style=\"padding-left:10px;\"><a href=\"https://ballotpedia.org/List_of_United_States_Senators_from_Texas\">U.S. Senate Texas</a></td>\n",
       "<td style=\"padding-left:10px;text-align:center;\"><a href=\"https://ballotpedia.org/John_Cornyn\">John Cornyn</a></td>\n",
       "<td class=\"partytd Republican\">Republican </td>\n",
       "<td style=\"text-align:center;\">December 2, 2002</td>\n",
       "<tr>\n",
       "<td style=\"padding-left:10px;\"><a href=\"https://ballotpedia.org/List_of_United_States_Senators_from_Kentucky\">U.S. Senate Kentucky</a></td>\n",
       "<td style=\"padding-left:10px;text-align:center;\"><a href=\"https://ballotpedia.org/Mitch_McConnell\">Mitch McConnell</a></td>\n",
       "<td class=\"partytd Republican\">Republican </td>\n",
       "<td style=\"text-align:center;\">1985</td>\n",
       "<tr>\n",
       "<td style=\"padding-left:10px;\"><a href=\"https://ballotpedia.org/List_of_United_States_Senators_from_Kentucky\">U.S. Senate Kentucky</a></td>\n",
       "<td style=\"padding-left:10px;text-align:center;\"><a href=\"https://ballotpedia.org/Rand_Paul\">Rand Paul</a></td>\n",
       "<td class=\"partytd Republican\">Republican </td>\n",
       "<td style=\"text-align:center;\">January 5, 2011</td>\n",
       "<tr>\n",
       "<td style=\"padding-left:10px;\"><a href=\"https://ballotpedia.org/List_of_United_States_Senators_from_Ohio\">U.S. Senate Ohio</a></td>\n",
       "<td style=\"padding-left:10px;text-align:center;\"><a href=\"https://ballotpedia.org/Rob_Portman\">Rob Portman</a></td>\n",
       "<td class=\"partytd Republican\">Republican </td>\n",
       "<td style=\"text-align:center;\">January 5, 2011</td>\n",
       "<tr>\n",
       "<td style=\"padding-left:10px;\"><a href=\"https://ballotpedia.org/List_of_United_States_Senators_from_Ohio\">U.S. Senate Ohio</a></td>\n",
       "<td style=\"padding-left:10px;text-align:center;\"><a href=\"https://ballotpedia.org/Sherrod_Brown\">Sherrod Brown</a></td>\n",
       "<td class=\"partytd Democratic\">Democratic </td>\n",
       "<td style=\"text-align:center;\">January 4, 2007</td>\n",
       "<tr>\n",
       "<td style=\"padding-left:10px;\"><a href=\"https://ballotpedia.org/List_of_United_States_Senators_from_Arizona\">U.S. Senate Arizona</a></td>\n",
       "<td style=\"padding-left:10px;text-align:center;\"><a href=\"https://ballotpedia.org/Kyrsten_Sinema\">Kyrsten Sinema</a></td>\n",
       "<td class=\"partytd Democratic\">Democratic </td>\n",
       "<td style=\"text-align:center;\">January 3, 2019</td>\n",
       "<tr>\n",
       "<td style=\"padding-left:10px;\"><a href=\"https://ballotpedia.org/List_of_United_States_Senators_from_Arizona\">U.S. Senate Arizona</a></td>\n",
       "<td style=\"padding-left:10px;text-align:center;\"><a href=\"https://ballotpedia.org/Mark_Kelly\">Mark Kelly</a></td>\n",
       "<td class=\"partytd Democratic\">Democratic </td>\n",
       "<td style=\"text-align:center;\">December 2, 2020</td>\n",
       "<tr>\n",
       "<td style=\"padding-left:10px;\"><a href=\"https://ballotpedia.org/List_of_United_States_Senators_from_West_Virginia\">U.S. Senate West Virginia</a></td>\n",
       "<td style=\"padding-left:10px;text-align:center;\"><a href=\"https://ballotpedia.org/Joe_Manchin_III\">Joe Manchin III</a></td>\n",
       "<td class=\"partytd Democratic\">Democratic </td>\n",
       "<td style=\"text-align:center;\">November 15, 2010</td>\n",
       "<tr>\n",
       "<td style=\"padding-left:10px;\"><a href=\"https://ballotpedia.org/List_of_United_States_Senators_from_West_Virginia\">U.S. Senate West Virginia</a></td>\n",
       "<td style=\"padding-left:10px;text-align:center;\"><a href=\"https://ballotpedia.org/Shelley_Moore_Capito\">Shelley Moore Capito</a></td>\n",
       "<td class=\"partytd Republican\">Republican </td>\n",
       "<td style=\"text-align:center;\">January 6, 2015</td>\n",
       "<tr>\n",
       "<td style=\"padding-left:10px;\"><a href=\"https://ballotpedia.org/List_of_United_States_Senators_from_Delaware\">U.S. Senate Delaware</a></td>\n",
       "<td style=\"padding-left:10px;text-align:center;\"><a href=\"https://ballotpedia.org/Tom_Carper\">Tom Carper</a></td>\n",
       "<td class=\"partytd Democratic\">Democratic </td>\n",
       "<td style=\"text-align:center;\">January 3, 2001</td>\n",
       "<tr>\n",
       "<td style=\"padding-left:10px;\"><a href=\"https://ballotpedia.org/List_of_United_States_Senators_from_Delaware\">U.S. Senate Delaware</a></td>\n",
       "<td style=\"padding-left:10px;text-align:center;\"><a href=\"https://ballotpedia.org/Chris_Coons\">Chris Coons</a></td>\n",
       "<td class=\"partytd Democratic\">Democratic </td>\n",
       "<td style=\"text-align:center;\">November 15, 2010</td>\n",
       "<tr>\n",
       "<td style=\"padding-left:10px;\"><a href=\"https://ballotpedia.org/List_of_United_States_Senators_from_Montana\">U.S. Senate Montana</a></td>\n",
       "<td style=\"padding-left:10px;text-align:center;\"><a href=\"https://ballotpedia.org/Steve_Daines\">Steve Daines</a></td>\n",
       "<td class=\"partytd Republican\">Republican </td>\n",
       "<td style=\"text-align:center;\">January 6, 2015</td>\n",
       "<tr>\n",
       "<td style=\"padding-left:10px;\"><a href=\"https://ballotpedia.org/List_of_United_States_Senators_from_Montana\">U.S. Senate Montana</a></td>\n",
       "<td style=\"padding-left:10px;text-align:center;\"><a href=\"https://ballotpedia.org/Jon_Tester\">Jon Tester</a></td>\n",
       "<td class=\"partytd Democratic\">Democratic </td>\n",
       "<td style=\"text-align:center;\">January 4, 2007</td>\n",
       "<tr>\n",
       "<td style=\"padding-left:10px;\"><a href=\"https://ballotpedia.org/List_of_United_States_Senators_from_Georgia\">U.S. Senate Georgia</a></td>\n",
       "<td style=\"padding-left:10px;text-align:center;\"><a href=\"https://ballotpedia.org/Raphael_Warnock\">Raphael Warnock</a></td>\n",
       "<td class=\"partytd Democratic\">Democratic </td>\n",
       "<td style=\"text-align:center;\">January 20, 2021</td>\n",
       "<tr>\n",
       "<td style=\"padding-left:10px;\"><a href=\"https://ballotpedia.org/List_of_United_States_Senators_from_Georgia\">U.S. Senate Georgia</a></td>\n",
       "<td style=\"padding-left:10px;text-align:center;\"><a href=\"https://ballotpedia.org/Jon_Ossoff\">Jon Ossoff</a></td>\n",
       "<td class=\"partytd Democratic\">Democratic </td>\n",
       "<td style=\"text-align:center;\">January 20, 2021</td>\n",
       "<tr>\n",
       "<td style=\"padding-left:10px;\"><a href=\"https://ballotpedia.org/List_of_United_States_Senators_from_Massachusetts\">U.S. Senate Massachusetts</a></td>\n",
       "<td style=\"padding-left:10px;text-align:center;\"><a href=\"https://ballotpedia.org/Elizabeth_Warren\">Elizabeth Warren</a></td>\n",
       "<td class=\"partytd Democratic\">Democratic </td>\n",
       "<td style=\"text-align:center;\">January 3, 2013</td>\n",
       "<tr>\n",
       "<td style=\"padding-left:10px;\"><a href=\"https://ballotpedia.org/List_of_United_States_Senators_from_Massachusetts\">U.S. Senate Massachusetts</a></td>\n",
       "<td style=\"padding-left:10px;text-align:center;\"><a href=\"https://ballotpedia.org/Edward_Markey\">Edward J. Markey</a></td>\n",
       "<td class=\"partytd Democratic\">Democratic </td>\n",
       "<td style=\"text-align:center;\">July 16, 2013</td>\n",
       "<tr>\n",
       "<td style=\"padding-left:10px;\"><a href=\"https://ballotpedia.org/List_of_United_States_Senators_from_Vermont\">U.S. Senate Vermont</a></td>\n",
       "<td style=\"padding-left:10px;text-align:center;\"><a href=\"https://ballotpedia.org/Bernie_Sanders\">Bernie Sanders</a></td>\n",
       "<td class=\"partytd Gray\">Independent</td>\n",
       "<td style=\"text-align:center;\">January 4, 2007</td>\n",
       "<tr>\n",
       "<td style=\"padding-left:10px;\"><a href=\"https://ballotpedia.org/List_of_United_States_Senators_from_Vermont\">U.S. Senate Vermont</a></td>\n",
       "<td style=\"padding-left:10px;text-align:center;\"><a href=\"https://ballotpedia.org/Patrick_Leahy_(Vermont)\">Patrick Leahy</a></td>\n",
       "<td class=\"partytd Democratic\">Democratic </td>\n",
       "<td style=\"text-align:center;\">January 3, 1975</td>\n",
       "<tr>\n",
       "<td style=\"padding-left:10px;\"><a href=\"https://ballotpedia.org/List_of_United_States_Senators_from_Colorado\">U.S. Senate Colorado</a></td>\n",
       "<td style=\"padding-left:10px;text-align:center;\"><a href=\"https://ballotpedia.org/Michael_Bennet\">Michael Bennet</a></td>\n",
       "<td class=\"partytd Democratic\">Democratic </td>\n",
       "<td style=\"text-align:center;\">2009</td>\n",
       "<tr>\n",
       "<td style=\"padding-left:10px;\"><a href=\"https://ballotpedia.org/List_of_United_States_Senators_from_Colorado\">U.S. Senate Colorado</a></td>\n",
       "<td style=\"padding-left:10px;text-align:center;\"><a href=\"https://ballotpedia.org/John_Hickenlooper\">John Hickenlooper</a></td>\n",
       "<td class=\"partytd Democratic\">Democratic </td>\n",
       "<td style=\"text-align:center;\">January 3, 2021</td>\n",
       "<tr>\n",
       "<td style=\"padding-left:10px;\"><a href=\"https://ballotpedia.org/List_of_United_States_Senators_from_Alabama\">U.S. Senate Alabama</a></td>\n",
       "<td style=\"padding-left:10px;text-align:center;\"><a href=\"https://ballotpedia.org/Richard_Shelby\">Richard Shelby</a></td>\n",
       "<td class=\"partytd Republican\">Republican </td>\n",
       "<td style=\"text-align:center;\">1987</td>\n",
       "<tr>\n",
       "<td style=\"padding-left:10px;\"><a href=\"https://ballotpedia.org/List_of_United_States_Senators_from_Alabama\">U.S. Senate Alabama</a></td>\n",
       "<td style=\"padding-left:10px;text-align:center;\"><a href=\"https://ballotpedia.org/Tommy_Tuberville\">Tommy Tuberville</a></td>\n",
       "<td class=\"partytd Republican\">Republican </td>\n",
       "<td style=\"text-align:center;\">January 3, 2021</td>\n",
       "<tr>\n",
       "<td style=\"padding-left:10px;\"><a href=\"https://ballotpedia.org/List_of_United_States_Senators_from_Nevada\">U.S. Senate Nevada</a></td>\n",
       "<td style=\"padding-left:10px;text-align:center;\"><a href=\"https://ballotpedia.org/Catherine_Cortez_Masto\">Catherine Cortez Masto</a></td>\n",
       "<td class=\"partytd Democratic\">Democratic </td>\n",
       "<td style=\"text-align:center;\">January 3, 2017</td>\n",
       "<tr>\n",
       "<td style=\"padding-left:10px;\"><a href=\"https://ballotpedia.org/List_of_United_States_Senators_from_Nevada\">U.S. Senate Nevada</a></td>\n",
       "<td style=\"padding-left:10px;text-align:center;\"><a href=\"https://ballotpedia.org/Jacky_Rosen\">Jacky Rosen</a></td>\n",
       "<td class=\"partytd Democratic\">Democratic </td>\n",
       "<td style=\"text-align:center;\">January 3, 2019</td>\n",
       "<tr>\n",
       "<td style=\"padding-left:10px;\"><a href=\"https://ballotpedia.org/List_of_United_States_Senators_from_New_Mexico\">U.S. Senate New Mexico</a></td>\n",
       "<td style=\"padding-left:10px;text-align:center;\"><a href=\"https://ballotpedia.org/Martin_Heinrich\">Martin Heinrich</a></td>\n",
       "<td class=\"partytd Democratic\">Democratic </td>\n",
       "<td style=\"text-align:center;\">January 3, 2013</td>\n",
       "<tr>\n",
       "<td style=\"padding-left:10px;\"><a href=\"https://ballotpedia.org/List_of_United_States_Senators_from_New_Mexico\">U.S. Senate New Mexico</a></td>\n",
       "<td style=\"padding-left:10px;text-align:center;\"><a href=\"https://ballotpedia.org/Ben_Ray_Luján\">Ben Ray Luján</a></td>\n",
       "<td class=\"partytd Democratic\">Democratic </td>\n",
       "<td style=\"text-align:center;\">January 3, 2021</td>\n",
       "<tr>\n",
       "<td style=\"padding-left:10px;\"><a href=\"https://ballotpedia.org/List_of_United_States_Senators_from_Tennessee\">U.S. Senate Tennessee</a></td>\n",
       "<td style=\"padding-left:10px;text-align:center;\"><a href=\"https://ballotpedia.org/Marsha_Blackburn\">Marsha Blackburn</a></td>\n",
       "<td class=\"partytd Republican\">Republican </td>\n",
       "<td style=\"text-align:center;\">January 3, 2019</td>\n",
       "<tr>\n",
       "<td style=\"padding-left:10px;\"><a href=\"https://ballotpedia.org/List_of_United_States_Senators_from_Tennessee\">U.S. Senate Tennessee</a></td>\n",
       "<td style=\"padding-left:10px;text-align:center;\"><a href=\"https://ballotpedia.org/Bill_Hagerty\">Bill Hagerty</a></td>\n",
       "<td class=\"partytd Republican\">Republican </td>\n",
       "<td style=\"text-align:center;\">January 3, 2021</td>\n",
       "<tr>\n",
       "<td style=\"padding-left:10px;\"><a href=\"https://ballotpedia.org/United_States_congressional_delegations_from_North_Dakota\">U.S. Senate North Dakota</a></td>\n",
       "<td style=\"padding-left:10px;text-align:center;\"><a href=\"https://ballotpedia.org/John_Hoeven\">John Hoeven</a></td>\n",
       "<td class=\"partytd Republican\">Republican </td>\n",
       "<td style=\"text-align:center;\">January 5, 2011</td>\n",
       "<tr>\n",
       "<td style=\"padding-left:10px;\"><a href=\"https://ballotpedia.org/United_States_congressional_delegations_from_North_Dakota\">U.S. Senate North Dakota</a></td>\n",
       "<td style=\"padding-left:10px;text-align:center;\"><a href=\"https://ballotpedia.org/Kevin_Cramer\">Kevin Cramer</a></td>\n",
       "<td class=\"partytd Republican\">Republican </td>\n",
       "<td style=\"text-align:center;\">January 3, 2019</td>\n",
       "<tr>\n",
       "<td style=\"padding-left:10px;\"><a href=\"https://ballotpedia.org/List_of_United_States_Senators_from_North_Carolina\">U.S. Senate North Carolina</a></td>\n",
       "<td style=\"padding-left:10px;text-align:center;\"><a href=\"https://ballotpedia.org/Richard_Burr\">Richard Burr</a></td>\n",
       "<td class=\"partytd Republican\">Republican </td>\n",
       "<td style=\"text-align:center;\">January 4, 2005</td>\n",
       "<tr>\n",
       "<td style=\"padding-left:10px;\"><a href=\"https://ballotpedia.org/List_of_United_States_Senators_from_North_Carolina\">U.S. Senate North Carolina</a></td>\n",
       "<td style=\"padding-left:10px;text-align:center;\"><a href=\"https://ballotpedia.org/Thom_Tillis_(North_Carolina)\">Thom Tillis</a></td>\n",
       "<td class=\"partytd Republican\">Republican </td>\n",
       "<td style=\"text-align:center;\">January 6, 2015</td>\n",
       "<tr>\n",
       "<td style=\"padding-left:10px;\"><a href=\"https://ballotpedia.org/List_of_United_States_Senators_from_Louisiana\">U.S. Senate Louisiana</a></td>\n",
       "<td style=\"padding-left:10px;text-align:center;\"><a href=\"https://ballotpedia.org/Bill_Cassidy\">Bill Cassidy</a></td>\n",
       "<td class=\"partytd Republican\">Republican </td>\n",
       "<td style=\"text-align:center;\">January 6, 2015</td>\n",
       "<tr>\n",
       "<td style=\"padding-left:10px;\"><a href=\"https://ballotpedia.org/List_of_United_States_Senators_from_Louisiana\">U.S. Senate Louisiana</a></td>\n",
       "<td style=\"padding-left:10px;text-align:center;\"><a href=\"https://ballotpedia.org/John_Neely_Kennedy\">John Neely Kennedy</a></td>\n",
       "<td class=\"partytd Republican\">Republican </td>\n",
       "<td style=\"text-align:center;\">January 3, 2017</td>\n",
       "<tr>\n",
       "<td style=\"padding-left:10px;\"><a href=\"https://ballotpedia.org/List_of_United_States_Senators_from_New_Hampshire\">U.S. Senate New Hampshire</a></td>\n",
       "<td style=\"padding-left:10px;text-align:center;\"><a href=\"https://ballotpedia.org/Maggie_Hassan\">Maggie Hassan</a></td>\n",
       "<td class=\"partytd Democratic\">Democratic </td>\n",
       "<td style=\"text-align:center;\">January 3, 2017</td>\n",
       "<tr>\n",
       "<td style=\"padding-left:10px;\"><a href=\"https://ballotpedia.org/List_of_United_States_Senators_from_New_Hampshire\">U.S. Senate New Hampshire</a></td>\n",
       "<td style=\"padding-left:10px;text-align:center;\"><a href=\"https://ballotpedia.org/Jeanne_Shaheen\">Jeanne Shaheen</a></td>\n",
       "<td class=\"partytd Democratic\">Democratic </td>\n",
       "<td style=\"text-align:center;\">January 6, 2009</td>\n",
       "<tr>\n",
       "<td style=\"padding-left:10px;\"><a href=\"https://ballotpedia.org/List_of_United_States_Senators_from_Maine\">U.S. Senate Maine</a></td>\n",
       "<td style=\"padding-left:10px;text-align:center;\"><a href=\"https://ballotpedia.org/Angus_King\">Angus King</a></td>\n",
       "<td class=\"partytd Gray\">Independent</td>\n",
       "<td style=\"text-align:center;\">January 3, 2013</td>\n",
       "<tr>\n",
       "<td style=\"padding-left:10px;\"><a href=\"https://ballotpedia.org/List_of_United_States_Senators_from_Maine\">U.S. Senate Maine</a></td>\n",
       "<td style=\"padding-left:10px;text-align:center;\"><a href=\"https://ballotpedia.org/Susan_Collins_(Maine)\">Susan Collins</a></td>\n",
       "<td class=\"partytd Republican\">Republican </td>\n",
       "<td style=\"text-align:center;\">January 7, 1997</td>\n",
       "<tr>\n",
       "<td style=\"padding-left:10px;\"><a href=\"https://ballotpedia.org/List_of_United_States_Senators_from_Florida\">U.S. Senate Florida</a></td>\n",
       "<td style=\"padding-left:10px;text-align:center;\"><a href=\"https://ballotpedia.org/Rick_Scott\">Rick Scott</a></td>\n",
       "<td class=\"partytd Republican\">Republican </td>\n",
       "<td style=\"text-align:center;\">January 3, 2019</td>\n",
       "<tr>\n",
       "<td style=\"padding-left:10px;\"><a href=\"https://ballotpedia.org/List_of_United_States_Senators_from_Florida\">U.S. Senate Florida</a></td>\n",
       "<td style=\"padding-left:10px;text-align:center;\"><a href=\"https://ballotpedia.org/Marco_Rubio\">Marco Rubio</a></td>\n",
       "<td class=\"partytd Republican\">Republican </td>\n",
       "<td style=\"text-align:center;\">January 5, 2011</td>\n",
       "<tr>\n",
       "<td style=\"padding-left:10px;\"><a href=\"https://ballotpedia.org/List_of_United_States_Senators_from_South_Dakota\">U.S. Senate South Dakota</a></td>\n",
       "<td style=\"padding-left:10px;text-align:center;\"><a href=\"https://ballotpedia.org/John_Thune\">John Thune</a></td>\n",
       "<td class=\"partytd Republican\">Republican </td>\n",
       "<td style=\"text-align:center;\">January 4, 2005</td>\n",
       "<tr>\n",
       "<td style=\"padding-left:10px;\"><a href=\"https://ballotpedia.org/List_of_United_States_Senators_from_South_Dakota\">U.S. Senate South Dakota</a></td>\n",
       "<td style=\"padding-left:10px;text-align:center;\"><a href=\"https://ballotpedia.org/Mike_Rounds\">Mike Rounds</a></td>\n",
       "<td class=\"partytd Republican\">Republican </td>\n",
       "<td style=\"text-align:center;\">January 6, 2015</td>\n",
       "<tr>\n",
       "<td style=\"padding-left:10px;\"><a href=\"https://ballotpedia.org/List_of_United_States_Senators_from_Rhode_Island\">U.S. Senate Rhode Island</a></td>\n",
       "<td style=\"padding-left:10px;text-align:center;\"><a href=\"https://ballotpedia.org/Sheldon_Whitehouse\">Sheldon Whitehouse</a></td>\n",
       "<td class=\"partytd Democratic\">Democratic </td>\n",
       "<td style=\"text-align:center;\">January 4, 2007</td>\n",
       "<tr>\n",
       "<td style=\"padding-left:10px;\"><a href=\"https://ballotpedia.org/List_of_United_States_Senators_from_Rhode_Island\">U.S. Senate Rhode Island</a></td>\n",
       "<td style=\"padding-left:10px;text-align:center;\"><a href=\"https://ballotpedia.org/Jack_Reed\">Jack Reed</a></td>\n",
       "<td class=\"partytd Democratic\">Democratic </td>\n",
       "<td style=\"text-align:center;\">January 7, 1997</td>\n",
       "<tr>\n",
       "<td style=\"padding-left:10px;\"><a href=\"https://ballotpedia.org/List_of_United_States_Senators_from_New_Jersey\">U.S. Senate New Jersey</a></td>\n",
       "<td style=\"padding-left:10px;text-align:center;\"><a href=\"https://ballotpedia.org/Bob_Menendez\">Bob Menendez</a></td>\n",
       "<td class=\"partytd Democratic\">Democratic </td>\n",
       "<td style=\"text-align:center;\">January 18, 2006</td>\n",
       "<tr>\n",
       "<td style=\"padding-left:10px;\"><a href=\"https://ballotpedia.org/List_of_United_States_Senators_from_New_Jersey\">U.S. Senate New Jersey</a></td>\n",
       "<td style=\"padding-left:10px;text-align:center;\"><a href=\"https://ballotpedia.org/Cory_Booker\">Cory Booker</a></td>\n",
       "<td class=\"partytd Democratic\">Democratic </td>\n",
       "<td style=\"text-align:center;\">October 31, 2013</td>\n",
       "<tr>\n",
       "<td style=\"padding-left:10px;\"><a href=\"https://ballotpedia.org/List_of_United_States_Senators_from_South_Carolina\">U.S. Senate South Carolina</a></td>\n",
       "<td style=\"padding-left:10px;text-align:center;\"><a href=\"https://ballotpedia.org/Lindsey_Graham\">Lindsey Graham</a></td>\n",
       "<td class=\"partytd Republican\">Republican </td>\n",
       "<td style=\"text-align:center;\">January 7, 2003</td>\n",
       "<tr>\n",
       "<td style=\"padding-left:10px;\"><a href=\"https://ballotpedia.org/List_of_United_States_Senators_from_South_Carolina\">U.S. Senate South Carolina</a></td>\n",
       "<td style=\"padding-left:10px;text-align:center;\"><a href=\"https://ballotpedia.org/Tim_Scott\">Tim Scott</a></td>\n",
       "<td class=\"partytd Republican\">Republican </td>\n",
       "<td style=\"text-align:center;\">January 2, 2013</td>\n",
       "<tr>\n",
       "<td style=\"padding-left:10px;\"><a href=\"https://ballotpedia.org/List_of_United_States_Senators_from_Hawaii\">U.S. Senate Hawaii</a></td>\n",
       "<td style=\"padding-left:10px;text-align:center;\"><a href=\"https://ballotpedia.org/Brian_Schatz\">Brian E. Schatz</a></td>\n",
       "<td class=\"partytd Democratic\">Democratic </td>\n",
       "<td style=\"text-align:center;\">December 27, 2012</td>\n",
       "<tr>\n",
       "<td style=\"padding-left:10px;\"><a href=\"https://ballotpedia.org/List_of_United_States_Senators_from_Hawaii\">U.S. Senate Hawaii</a></td>\n",
       "<td style=\"padding-left:10px;text-align:center;\"><a href=\"https://ballotpedia.org/Mazie_Hirono\">Mazie K. Hirono</a></td>\n",
       "<td class=\"partytd Democratic\">Democratic </td>\n",
       "<td style=\"text-align:center;\">January 3, 2013</td>\n",
       "<tr>\n",
       "<td style=\"padding-left:10px;\"><a href=\"https://ballotpedia.org/List_of_United_States_Senators_from_Alaska\">U.S. Senate Alaska</a></td>\n",
       "<td style=\"padding-left:10px;text-align:center;\"><a href=\"https://ballotpedia.org/Daniel_S._Sullivan\">Daniel S. Sullivan</a></td>\n",
       "<td class=\"partytd Republican\">Republican </td>\n",
       "<td style=\"text-align:center;\">January 6, 2015</td>\n",
       "<tr>\n",
       "<td style=\"padding-left:10px;\"><a href=\"https://ballotpedia.org/List_of_United_States_Senators_from_Alaska\">U.S. Senate Alaska</a></td>\n",
       "<td style=\"padding-left:10px;text-align:center;\"><a href=\"https://ballotpedia.org/Lisa_Murkowski\">Lisa Murkowski</a></td>\n",
       "<td class=\"partytd Republican\">Republican </td>\n",
       "<td style=\"text-align:center;\">December 20, 2002</td>\n",
       "<tr>\n",
       "<td style=\"padding-left:10px;\"><a href=\"https://ballotpedia.org/List_of_United_States_Senators_from_Oklahoma\">U.S. Senate Oklahoma</a></td>\n",
       "<td style=\"padding-left:10px;text-align:center;\"><a href=\"https://ballotpedia.org/James_Lankford\">James Lankford</a></td>\n",
       "<td class=\"partytd Republican\">Republican </td>\n",
       "<td style=\"text-align:center;\">January 6, 2015</td>\n",
       "<tr>\n",
       "<td style=\"padding-left:10px;\"><a href=\"https://ballotpedia.org/List_of_United_States_Senators_from_Oklahoma\">U.S. Senate Oklahoma</a></td>\n",
       "<td style=\"padding-left:10px;text-align:center;\"><a href=\"https://ballotpedia.org/Jim_Inhofe\">Jim Inhofe</a></td>\n",
       "<td class=\"partytd Republican\">Republican </td>\n",
       "<td style=\"text-align:center;\">November 17, 1994</td>\n",
       "<tr>\n",
       "<td style=\"padding-left:10px;\"><a href=\"https://ballotpedia.org/List_of_United_States_Senators_from_Nebraska\">U.S. Senate Nebraska</a></td>\n",
       "<td style=\"padding-left:10px;text-align:center;\"><a href=\"https://ballotpedia.org/Ben_Sasse\">Ben Sasse</a></td>\n",
       "<td class=\"partytd Republican\">Republican </td>\n",
       "<td style=\"text-align:center;\">January 6, 2015</td>\n",
       "<tr>\n",
       "<td style=\"padding-left:10px;\"><a href=\"https://ballotpedia.org/List_of_United_States_Senators_from_Nebraska\">U.S. Senate Nebraska</a></td>\n",
       "<td style=\"padding-left:10px;text-align:center;\"><a href=\"https://ballotpedia.org/Deb_Fischer\">Deb Fischer</a></td>\n",
       "<td class=\"partytd Republican\">Republican </td>\n",
       "<td style=\"text-align:center;\">January 3, 2013</td>\n",
       "<tr>\n",
       "<td style=\"padding-left:10px;\"><a href=\"https://ballotpedia.org/List_of_United_States_Senators_from_Connecticut\">U.S. Senate Connecticut</a></td>\n",
       "<td style=\"padding-left:10px;text-align:center;\"><a href=\"https://ballotpedia.org/Chris_Murphy_(Connecticut)\">Christopher S. Murphy</a></td>\n",
       "<td class=\"partytd Democratic\">Democratic </td>\n",
       "<td style=\"text-align:center;\">January 3, 2013</td>\n",
       "<tr>\n",
       "<td style=\"padding-left:10px;\"><a href=\"https://ballotpedia.org/List_of_United_States_Senators_from_Connecticut\">U.S. Senate Connecticut</a></td>\n",
       "<td style=\"padding-left:10px;text-align:center;\"><a href=\"https://ballotpedia.org/Richard_Blumenthal\">Richard Blumenthal</a></td>\n",
       "<td class=\"partytd Democratic\">Democratic </td>\n",
       "<td style=\"text-align:center;\">January 5, 2011</td>\n",
       "<tr>\n",
       "<td style=\"padding-left:10px;\"><a href=\"https://ballotpedia.org/List_of_United_States_Senators_from_Mississippi\">U.S. Senate Mississippi</a></td>\n",
       "<td style=\"padding-left:10px;text-align:center;\"><a href=\"https://ballotpedia.org/Roger_Wicker\">Roger Wicker</a></td>\n",
       "<td class=\"partytd Republican\">Republican </td>\n",
       "<td style=\"text-align:center;\">December 31, 2007</td>\n",
       "<tr>\n",
       "<td style=\"padding-left:10px;\"><a href=\"https://ballotpedia.org/List_of_United_States_Senators_from_Mississippi\">U.S. Senate Mississippi</a></td>\n",
       "<td style=\"padding-left:10px;text-align:center;\"><a href=\"https://ballotpedia.org/Cindy_Hyde-Smith\">Cindy Hyde-Smith</a></td>\n",
       "<td class=\"partytd Republican\">Republican </td>\n",
       "<td style=\"text-align:center;\">2018</td>\n",
       "<tr>\n",
       "<td style=\"padding-left:10px;\"><a href=\"https://ballotpedia.org/List_of_United_States_Senators_from_Missouri\">U.S. Senate Missouri</a></td>\n",
       "<td style=\"padding-left:10px;text-align:center;\"><a href=\"https://ballotpedia.org/Roy_Blunt\">Roy Blunt</a></td>\n",
       "<td class=\"partytd Republican\">Republican </td>\n",
       "<td style=\"text-align:center;\">January 5, 2011</td>\n",
       "<tr>\n",
       "<td style=\"padding-left:10px;\"><a href=\"https://ballotpedia.org/List_of_United_States_Senators_from_Missouri\">U.S. Senate Missouri</a></td>\n",
       "<td style=\"padding-left:10px;text-align:center;\"><a href=\"https://ballotpedia.org/Josh_Hawley\">Josh Hawley</a></td>\n",
       "<td class=\"partytd Republican\">Republican </td>\n",
       "<td style=\"text-align:center;\">January 3, 2019</td>\n",
       "<tr>\n",
       "<td style=\"padding-left:10px;\"><a href=\"https://ballotpedia.org/List_of_United_States_Senators_from_Pennsylvania\">U.S. Senate Pennsylvania</a></td>\n",
       "<td style=\"padding-left:10px;text-align:center;\"><a href=\"https://ballotpedia.org/Pat_Toomey\">Pat Toomey</a></td>\n",
       "<td class=\"partytd Republican\">Republican </td>\n",
       "<td style=\"text-align:center;\">January 5, 2011</td>\n",
       "<tr>\n",
       "<td style=\"padding-left:10px;\"><a href=\"https://ballotpedia.org/List_of_United_States_Senators_from_Pennsylvania\">U.S. Senate Pennsylvania</a></td>\n",
       "<td style=\"padding-left:10px;text-align:center;\"><a href=\"https://ballotpedia.org/Bob_Casey_Jr.\">Bob Casey Jr.</a></td>\n",
       "<td class=\"partytd Democratic\">Democratic </td>\n",
       "<td style=\"text-align:center;\">January 4, 2007</td>\n",
       "<tr>\n",
       "<td style=\"padding-left:10px;\"><a href=\"https://ballotpedia.org/List_of_United_States_Senators_from_Utah\">U.S. Senate Utah</a></td>\n",
       "<td style=\"padding-left:10px;text-align:center;\"><a href=\"https://ballotpedia.org/Mike_Lee_(Utah)\">Mike Lee</a></td>\n",
       "<td class=\"partytd Republican\">Republican </td>\n",
       "<td style=\"text-align:center;\">January 5, 2011</td>\n",
       "<tr>\n",
       "<td style=\"padding-left:10px;\"><a href=\"https://ballotpedia.org/List_of_United_States_Senators_from_Utah\">U.S. Senate Utah</a></td>\n",
       "<td style=\"padding-left:10px;text-align:center;\"><a href=\"https://ballotpedia.org/Mitt_Romney\">Mitt Romney</a></td>\n",
       "<td class=\"partytd Republican\">Republican </td>\n",
       "<td style=\"text-align:center;\">January 3, 2019</td>\n",
       "</tr>\n",
       "</tr></tr></tr></tr></tr></tr></tr></tr></tr></tr></tr></tr></tr></tr></tr></tr></tr></tr></tr></tr></tr></tr></tr></tr></tr></tr></tr></tr></tr></tr></tr></tr></tr></tr></tr></tr></tr></tr></tr></tr></tr></tr></tr></tr></tr></tr></tr></tr></tr></tr></tr></tr></tr></tr></tr></tr></tr></tr></tr></tr></tr></tr></tr></tr></tr></tr></tr></tr></tr></tr></tr></tr></tr></tr></tr></tr></tr></tr></tr></tr></tr></tr></tr></tr></tr></tr></tr></tr></tr></tr></tr></tr></tr></tr></tr></tr></tr></tr></tr>"
      ]
     },
     "execution_count": 12,
     "metadata": {},
     "output_type": "execute_result"
    }
   ],
   "source": [
    "row=rows[1]\n",
    "row"
   ]
  },
  {
   "cell_type": "code",
   "execution_count": 13,
   "metadata": {
    "slideshow": {
     "slide_type": "subslide"
    }
   },
   "outputs": [
    {
     "data": {
      "text/plain": [
       "[<td style=\"padding-left:10px;\"><a href=\"https://ballotpedia.org/List_of_United_States_Senators_from_Kansas\">U.S. Senate Kansas</a></td>,\n",
       " <td style=\"padding-left:10px;text-align:center;\"><a href=\"https://ballotpedia.org/Jerry_Moran\">Jerry Moran</a></td>,\n",
       " <td class=\"partytd Republican\">Republican </td>,\n",
       " <td style=\"text-align:center;\">January 5, 2011</td>]"
      ]
     },
     "execution_count": 13,
     "metadata": {},
     "output_type": "execute_result"
    }
   ],
   "source": [
    "tds=row.find_all('td')\n",
    "tds[:4]"
   ]
  },
  {
   "cell_type": "code",
   "execution_count": 14,
   "metadata": {},
   "outputs": [
    {
     "name": "stdout",
     "output_type": "stream",
     "text": [
      "a list: [<a href=\"https://ballotpedia.org/Jerry_Moran\">Jerry Moran</a>]\n",
      "its unique element <a href=\"https://ballotpedia.org/Jerry_Moran\">Jerry Moran</a>\n",
      "url wanted https://ballotpedia.org/Jerry_Moran\n",
      "Text content Jerry Moran\n"
     ]
    }
   ],
   "source": [
    "url= tds[1].find_all('a')\n",
    "print('a list:', url)\n",
    "print('its unique element', url[0])\n",
    "print('url wanted', url[0]['href'] )\n",
    "print('Text content', url[0].get_text())"
   ]
  },
  {
   "cell_type": "markdown",
   "metadata": {
    "slideshow": {
     "slide_type": "subslide"
    }
   },
   "source": [
    "<div class=\"alert alert-info\">\n",
    "<h3> Your turn</h3>\n",
    "<p> Use the code for 1 row in order to build a loop that gives a list of all of the wanted url. \n",
    "</div>"
   ]
  },
  {
   "cell_type": "code",
   "execution_count": 15,
   "metadata": {
    "slideshow": {
     "slide_type": "fragment"
    }
   },
   "outputs": [],
   "source": [
    "list_url = [0]*100\n",
    "for i in range(100):\n",
    "    row=rows[i+1]\n",
    "    tds=row.find_all('td')\n",
    "    url= tds[1].find_all('a')\n",
    "    list_url[i] = url[0]['href']"
   ]
  },
  {
   "cell_type": "markdown",
   "metadata": {
    "slideshow": {
     "slide_type": "subslide"
    }
   },
   "source": [
    "## Your First Scraper\n",
    "\n",
    "Then, the same logic can be implemented to get the info from the senators' page (e.g. https://ballotpedia.org/Jerry_Moran). The following code extracts info from the first 5 url from the list scraped above. "
   ]
  },
  {
   "cell_type": "code",
   "execution_count": 27,
   "metadata": {},
   "outputs": [
    {
     "name": "stdout",
     "output_type": "stream",
     "text": [
      "-------- https://ballotpedia.org/Jerry_Moran --------\n",
      "Moran was born in 1954 in Great Bend,KS, but was raised in Plainville,KS. After graduating from Plainville High School, Moran went on to earn his B.S. at the University of Kansas in 1976, and his J.D. at Kansas University School of Law in 1981. Moran has also worked as a bank officer.[1]\n",
      "Below is an abbreviated outline of Moran's political career:[1]\n",
      "2011-Present: U.S. Senator from Kansas1997-2011:U.S. House of Representatives1989-1997:Kansas State Senate\n",
      "U.S. Senate\n",
      "\n",
      "2019-2020\n",
      "Moran was assigned to the following committees:[Source]\n",
      "\n",
      "Committee on Veterans' AffairsCommittee on AppropriationsCommittee on Banking, Housing, and Urban AffairsCommittee on Indian AffairsCommittee on Commerce, Science and Transportation\n",
      "\n",
      "2017-2018\n",
      "At the beginning of the115th Congress, Moran was assigned to the following committees:[3]\n",
      "Committee on Indian AffairsCommittee on AppropriationsCommittee on Commerce, Science, and TransportationCommittee on Environment and Public WorksCommittee on Veterans' Affairs\n",
      "2015-2016\n",
      "Indian Affairs CommitteeAppropriations CommitteeSubcommittee on Agriculture, Rural Development, Food and Drug Administration, and Related AgenciesChairmanSubcommittee on Department of DefenseSubcommittee on Departments of Labor, Health and Human Services, and Education, and Related AgenciesSubcommittee on Financial Services and General GovernmentSubcommittee on Legislative BranchSubcommittee on State, Foreign Operations, and Related ProgramsBanking, Housing, and Urban Affairs CommitteeSubcommittee on Economic PolicySubcommittee on Housing, Transportation, and Community DevelopmentSubcommittee on Securities, Insurance, and InvestmentCommerce, Science, and Transportation CommitteeSubcommittee on Aviation Operations, Safety, and SecuritySubcommittee on Communications, Technology, and the InternetSubcommittee on Consumer Protection, Product Safety, and Insurance,ChairmanSubcommittee on Space, Science, and CompetitivenessSubcommittee on Surface Transportation and Merchant Marine Infrastructure, Safety, and SecurityVeterans' Affairs Committee\n",
      "2013-2014\n",
      "Moran served on the following Senate committees:[4][5]\n",
      "Appropriations CommitteeSubcommittee on Transportation and Housing and Urban Development, and Related AgenciesSubcommittee on Departments of Labor, Health and Human Services, and Education, and Related AgenciesSubcommittee on Department of HomelandSubcommittee on Financial Services and General Government MembersSubcommittee on Agriculture, Rural Development, Food and Drug Administration, and Related AgenciesBanking, Housing and Urban Affairs CommitteeSubcommittee on National Security and International Trade and FinanceSubcommittee on Financial Institutions and Consumer Protection MembersSubcommittee on Housing, Transportation and Community DevelopmentVeterans' Affairs Committee\n",
      "2011-2012\n",
      "Moran served on the following Senate committees:[6]\n",
      "Banking, Housing and Urban Affairs CommitteeAppropriations CommitteeHomeland Security and Governmental Affairs CommitteeVeterans' Affairs CommitteeSmall Business and Entrepreneurship CommitteeSpecial Committee on Aging\n",
      "See also:Key votes\n",
      "Ballotpedia monitors legislation that receives a vote and highlights the ones that we consider to be key to understanding where elected officials stand on the issues. To read more about how we identify key votes, clickhere.\n",
      "Key votes: 116th Congress, 2019-2020\n",
      "\n",
      "Key votes: 115th Congress, 2017-2018\n",
      "For detailed information about each vote, clickhere.\n",
      "Votes on domestic policy (click to expand)\n",
      "VotedYeaon:First Step Act of 2018 (S 756)Motion Agreed to (87-12) on December 18, 2018Proposed making changes to the criminal justice system.[7]\n",
      "VotedYeaon:Agriculture Improvement Act of 2018 (HR 2)Conference Report Agreed to (87-13) on December 11, 2018Proposed providing funding for commodity support, conservation, trade and international food aid, nutrition assistance, farm credit, rural development, research and extension activities, forestry, horticulture, and crop insurance through fiscal year 2023.[8]\n",
      "VotedYeaon:\"Brett M. Kavanaugh, of Maryland, to be an Associate Justice of the Supreme Court of the United States\" (PN2259)Nomination Confirmed (50-48) on October 6, 2018Brett M. Kavanaugh, of Maryland, to be an Associate Justice of the Supreme Court of the United States[9]\n",
      "VotedYeaon:\"Brett M. Kavanaugh, of Maryland, to be an Associate Justice of the Supreme Court of the United States\" (PN2259)Cloture Motion Agreed to (51-49) on October 5, 2018Brett M. Kavanaugh, of Maryland, to be an Associate Justice of the Supreme Court of the United States[10]\n",
      "VotedYeaon:Agriculture and Nutrition Act of 2018 (HR 2)Bill Passed (86-11, 3/5 majority required) on June 28, 2018Proposed providing funding for commodity support, conservation, trade and international food aid, nutrition assistance, farm credit, rural development, research and extension activities, forestry, horticulture, and crop insurance.[11]\n",
      "VotedNayon:Immigration reform proposal from Sen. Chuck Grassley and the Trump administration (S Amdt 1959 to HR 2579)Cloture Motion Rejected (39-60, 3/5 majority required) on February 15, 2018Proposed providing a path to citizenship for 1.8 million individuals brought into the U.S. without legal permission as children, $25 billion for border security, limits on chain migration or family-based migration, and eliminating the visa lottery system.[12]\n",
      "VotedNayon:Immigration reform proposal from the Common Sense Coalition (S Amdt 1958 to HR 2579)Cloture Motion Rejected (54-45, 3/5 majority required) on February 15, 2018Proposed providing a path to citizenship for individuals brought into the U.S. without legal permission as children, $25 billion for border security, and limitations on chain or family-based immigration.[13]\n",
      "VotedYeaon:Stop Dangerous Sanctuary Cities Act amendment (S Amdt 1948 to S Amdt 1959)Cloture Motion Rejected (54-45, 3/5 majority required) on February 15, 2018Proposed withholding funding from sanctuary jurisdictions for not cooperating with federal immigration officials.[14]\n",
      "VotedNayon:Coons-McCain immigration plan (S Amdt 1955 to S Amdt 1958)Cloture Motion Rejected (52-47, 3/5 majority required) on February 15, 2018Proposed providing a path to citizenship for individuals brought into the U.S. without legal permission as children and conducting a study to determine what border security measures were needed. It also proposed requiring the U.S. Department of Homeland Security (DHS) to secure the U.S.-Mexico border by 2021.[15]\n",
      "VotedYeaon:Pain-Capable Unborn Child Protection Act (S 2311)Cloture on the Motion to Proceed Rejected (51-46, 3/5 majority required) on January 29, 2018Proposed amending the federal criminal code to make it a crime for any person to perform or attempt to perform an abortion if the probable post-fertilization age of the fetus was 20 weeks or more. The bill proposed providing exceptions for an abortion: (1) that was necessary to save the life of the pregnant woman, or (2) when the pregnancy was the result of rape or incest.[16]\n",
      "VotedYeaon:An amendment to repeal the requirements for individuals to enroll in health insurance and for employers to offer it—\"Skinny bill\" (S Amdt 667 to S Amdt 267 to HR 1628 the American Health Care Act of 2017)Amendment Rejected (49-51) on July 28, 2017The amendment proposed repealing the requirements for individuals to enroll in health insurance and for employers to offer it.[17]\n",
      "VotedYeaon:An amendment to repeal the ACA, including Paul amendment (No. 271) (S Amdt 271 to S Amdt 267 to HR 1628)Amendment Rejected (45-55) on July 26, 2017An amendment to repeal the ACA, including Paul amendment (No. 271)[18]\n",
      "VotedNayon:Motion to advance the Better Care Reconciliation Act of 2017, including Cruz and Portman amendments (S Amdt 270 to S Amdt 267 to HR 1628)Motion Rejected (43-57, 3/5 majority required) on July 25, 2017A procedural vote to advance the Better Care Reconciliation Act of 2017 (BCRA), including the Cruz and Portman amendments.[19]\n",
      "VotedYeaon:Motion to begin debate on the American Health Care Act of 2017 (HR 1628)Motion to Proceed Agreed to (50-50, Vice President voted Yea) on July 25, 2017Proposed providing for reconciliation pursuant to title II of the concurrent resolution on the budget for fiscal year 2017.[20]\n",
      "VotedYeaon:Neil M. Gorsuch, of Colorado, to be an Associate Justice of the Supreme Court of the United States (PN55(4)—confirmation vote)Nomination Confirmed (54-45) on April 7, 2017Neil M. Gorsuch, of Colorado, to be an Associate Justice of the Supreme Court of the United States—confirmation vote.[21]\n",
      "VotedYeaon:Neil M. Gorsuch, of Colorado, to be an Associate Justice of the Supreme Court of the United States (PN55(3))Cloture Motion Agreed to (55-45) on April 6, 2017Neil M. Gorsuch, of Colorado, to be an Associate Justice of the Supreme Court of the United States—second vote to end debate and move to a vote on Gorsuch's nomination under the new precedent requiring only a simple majority to pass.[22]\n",
      "\n",
      "VotedNayon:Neil M. Gorsuch, of Colorado, to be an Associate Justice of the Supreme Court of the United States (PN55(2))Decision of Chair Not Sustained (48-52) on April 6, 2017Neil M. Gorsuch, of Colorado, to be an Associate Justice of the Supreme Court of the United States—a vote to keep the Senate precedent of requiring 60 votes to close debate on Supreme Court nominations.[23]\n",
      "VotedYeaon:Neil M. Gorsuch, of Colorado, to be an Associate Justice of the Supreme Court of the United States (PN55)Cloture Motion Rejected (55-45, 3/5 majority required) on April 6, 2017Neil M. Gorsuch, of Colorado, to be an Associate Justice of the Supreme Court of the United States—initial vote to end debate and move to a vote on Gorsuch's nomination.[24]\n",
      "\n",
      "National security\n",
      "Letter to Iran\n",
      "On March 9, 2015, SenatorTom Cotton(R-Ark.) wrote a letter to Iran's leadership, warning them that signing a nuclear deal with theObamaadministration without congressional approval was merely an \"executive agreement.\" The letter also stated that \"The next president could revoke such an executive agreement with the stroke of a pen and future Congresses could modify the terms of the agreement at any time.\" The letter was signed by 47 Republican members of theSenate. Moran was one of the 47 who signed the letter. No Democrats signed it.[96]\n",
      "The letter caused backlash from both the Obama administration and members of Congress.[97]Vice PresidentJoe Bidensaid of the letter, \"In thirty-six years in the United States Senate, I cannot recall another instance in which senators wrote directly to advise another country — much less a longtime foreign adversary — that the president does not have the constitutional authority to reach a meaningful understanding with them.\"[98]\n",
      "Drones filibuster\n",
      "See also:Rand Paul filibuster of John Brennan's CIA Nomination in March 2013\n",
      "On March 6, 2013, SenatorRand Paul(R) led a 13-hour filibuster ofPresident Obama'sCIA Director nominee, John Brennan. Paul started the filibuster in order to highlight his concerns about the administration's drone policies. In particular, Paul said he was concerned about whether a drone could be used to kill an American citizen within the United States border without any due process involved. Paul and other civil liberties activists were critical of President Obama for not offering a clear response to the question. A total of 14 senators joined Paul in the filibuster—13 Republicans and one Democrat.[99][100][101]\n",
      "Moran was one of the 13 Republican senators who joined Paul in his filibuster.[102][103]\n",
      "Thirty Republican senators did not support the filibuster.[104][105][106]\n",
      "The day after the filibuster, Attorney General Eric Holder sent a letter toPaul, responding to the filibuster. Holder wrote, \"Does the president have the authority to use a weaponized drone to kill an American not engaged in combat on U.S. soil? The answer to that is no.\"[107]\n",
      "2016\n",
      "See also:United States Senate election in Kansas, 2016\n",
      "Heading into the election, BallotpediaratedKansas' U.S. Senate raceas safely Republican. IncumbentJerry Moran(R) defeatedPatrick Wiesner(D) andRobert Garrard(L) in the general election on November 8, 2016. Moran defeatedD.J. Smithin the Republican primary, while Wiesner defeatedMonique Singhto win the Democratic nomination. The primary elections took place on August 2, 2016.[108][109]\n",
      "U.S. Senate, Kansas General Election, 2016PartyCandidateVote %VotesRepublicanJerry MoranIncumbent62.2%732,376DemocraticPatrick Wiesner32.2%379,740LibertarianRobert Garrard5.6%65,760N/AWrite-in0%46Total Votes1,177,922Source:Kansas Secretary of State\n",
      "\n",
      "U.S. Senate, Kansas Democratic  Primary, 2016CandidateVote %VotesPatrick Wiesner62.9%59,522Monique Singh37.1%35,042Total Votes94,564Source:Kansas Secretary of State\n",
      "\n",
      "U.S. Senate, Kansas Republican  Primary, 2016CandidateVote %VotesJerry MoranIncumbent79.1%230,907D.J. Smith20.9%61,056Total Votes291,963Source:Kansas Secretary of State\n",
      "Campaign themes\n",
      "The following issues were listed on Moran's campaign website. For a full list of campaign themes,click here.\n",
      "“Standing up to Democrats — and Republicans — who Spend Recklessly, Borrow Continually and Tax Repeatedly: Jerry Moran has consistently gone against the tide in Washington and fought Congress’ tax-and-spend problem. He thinks Congress is hemorrhaging money at an alarming rate and must be reminded that spending trillions of dollars — that we do not have — undermines economic recovery today and the future of our children and grandchildren who will have to pay these crippling debts. He is committed to opposing reckless spending and reining in big government in a fiscally responsible way to help Kansas families and businesses.Leading Voice for Kansas Agriculture: Growing up in Western Kansas taught Jerry Moran that government can make the lives of Kansas farmers and ranchers more difficult by creating uncertainty and throwing needless regulations, taxes, fees, and restrictions our way. Jerry believes that regulators and bureaucrats need to let farmers and ranchers be the responsible stewards of the land that they always have been.Consistent Conservative Who Stands Firm Against President Obama’s Executive Overreach: Jerry Moran has fought the president’s agenda from the outset. As a member of the House of Representatives, he was the first representative to file legislation to repeal Obamacare. In the Senate, he continues to fight to repeal Obamacare.A Trusted Protector and Proven Defender of the Second Amendment: He is a champion of the Second Amendment and has been a leader of the opposition to the U.N. Arms Trade Treaty. Jerry Moran has spoken out repeatedly against the Obama Administration’s attempts to reverse U.S. policies, abandon its own red line negotiation principles, and admit publicly the treaty’s dangerous ambiguity. He believes we must reject this treaty, which fails to exempt civilian firearms from its scope, and instead uphold the fundamental individual rights of Americans.Cherishing Life. Safeguarding our Freedoms. Reclaiming our American Values: Jerry Moran is, and always has been, pro-life. He believes life is precious and deserves our respect and protection. Science reveals that each human life begins at conception, and Jerry believes the right to life guaranteed by the Constitution is vested in each human being. This right is sacred.[110]”—Jerry Moran's campaign website,https://www.moranforkansas.com/priorities/\n",
      "2010\n",
      "On November 2, 2010, Moran (R) won election to theUnited States Senate. He defeated Lisa Johnston (D), Michael Wm. Dann (L), and Joseph K. Bellis (Reformed Party) in the general election.[111]\n",
      "U.S. Senate, Kansas General Election, 2010PartyCandidateVote %VotesRepublicanJerry Moran70.1%587,175DemocraticLisa Johnston26.4%220,971LibertarianMichael Wm. Dann2.1%17,922ReformedJoseph \"Joe\" K. Bellis1.4%11,624Total Votes837,692\n",
      "\n",
      "Comprehensive donor history\n",
      "\n",
      "\n",
      "Note: The finance data shown here comes from the disclosures required of candidates and parties. Depending on the election or state, this may represent only a portion of all the funds spent on their behalf.Satellite spending groupsmay or may not have expended funds related to the candidate or politician on whose page you are reading this disclaimer. Campaign finance data from elections may be incomplete. For elections to federal offices, complete data can be found at theFEC website. Clickherefor more on federal campaign finance law andherefor more on state campaign finance law.\n",
      "\n",
      "\n",
      "Jerry Moran campaign contribution historyYearOfficeResultContributions2016U.S. Senate, Kansas✔$6,604,9992010U.S. Senate (Kansas)✔$4,154,0812008U.S. House (Kansas, District 1)✔$1,745,1012006U.S. House (Kansas, District 1)✔$970,2132004U.S. House (Kansas, District 1)✔$724,4882002U.S. House (Kansas, District 1)✔$489,4272000U.S. House (Kansas, District 1)✔$546,116Grand total raised$15,234,425Source:Follow the Money\n",
      "\n",
      "\n",
      "2016\n",
      "Moran won re-election to theU.S. Senatein 2016. During that election cycle, Moran's campaign committee raised a total of $6,604,999 and spent $4,940,113.[112]This is less than the average $10.08 million spent by U.S. Senate winners in 2016.[113]\n",
      "Cost per vote\n",
      "Moran spent $6.75 per general election vote received in 2016.\n",
      "U.S. Senate, Kansas, 2016 - Jerry Moran Campaign ContributionsTotal Raised$6,604,999Total Spent$4,940,113Total Raised by Election Runner-up$36,252Total Spent by Election Runner-up$38,279Top contributors to Jerry Moran's campaign committeeBurns & McDonnell$47,800Berkshire Hathaway$37,800Union Pacific Corp$37,775Koch Industries$35,550Deloitte LLP$31,200Top 5 industries that contributed to campaign committeeLeadership PACs$365,700Securities & Investment$272,125Crop Production & Basic Processing$269,282Commercial Banks$209,599Agricultural Services/Products$198,850Source:Open Secrets\n",
      "\n",
      "See also:Personal Gain Index (U.S. Congress)\n",
      "ThePersonal Gain Index (U.S. Congress)is a two-part measurement that illustrates the extent to which members of theU.S. Congresshave prospered during their tenure as public servants.It consists of two different metrics:\n",
      "Changes in Net WorthThe Donation Concentration Metric\n",
      "PGI: Change in net worth\n",
      "See also:Changes in Net Worth of U.S. Senators and Representatives (Personal Gain Index)andNet worth of United States Senators and Representatives\n",
      "\n",
      "Based oncongressional financial disclosure formsand calculations made available byOpenSecrets.org, Moran's net worth as of 2012 was estimated between $414,019 and $1,238,000. That averages to$826,009.50, which is lower than the average net worth of Republican senators in 2012 of $6,956,438.47. Moran ranked as the 68th most wealthy senator in 2012.[114]Between 2004 and 2012, Moran's calculated net worth[115]increased by an average of 3 percent per year. Between 2004 and 2012, the average annual percentage increase for a member of Congress was 15.4 percent.[116]\n",
      "Jerry Moran Yearly Net WorthYearAverage Net Worth2004$667,2812012$826,009Growth from 2004 to 2012:24%Average annual growth:3%[117]Comparatively, theAmerican citizenexperienced a median yearlydeclinein net worth of-0.94%.[118]\n",
      "The data used to calculate changes in net worth may include changes resulting from assets gained through marriage, inheritance, changes in family estates and/or trusts, changes in family business ownership, and many other variables unrelated to a member's behavior in Congress.\n",
      "PGI: Donation Concentration Metric\n",
      "See also:The Donation Concentration Metric (U.S. Congress Personal Gain Index)\n",
      "Filings required by theFederal Election Commissionreport on the industries that give to each candidate. Using campaign filings and information calculated byOpenSecrets.org, Ballotpedia calculated the percentage of donations by industry received by each incumbent over the course of his or her career (or 1989 and later, if elected prior to 1988). Moran received the most donations from individuals and PACs employed by theCrop Production & Basic Processingindustry.\n",
      "From 1995-2014,23.6 percent of Moran's career contributions came from the top five industries as listed below.[119]\n",
      "\n",
      "Jerry Moran Campaign ContributionsTotal Raised$11,089,837Total Spent$10,317,936Top five industries that contributed to campaign committeeCrop Production & Basic Processing$744,572Agricultural Services/Products$566,587Health Professionals$464,710Commercial Banks$433,060Oil & Gas$407,796% total in top industry6.71%% total in top two industries11.82%% total in top five industries23.6%\n",
      "Ideology and leadership\n",
      "See also:GovTrack's Political Spectrum & Legislative Leadership ranking\n",
      "Based on an analysis of bill sponsorship byGovTrack, Moran was a \"rank-and-file Republican,\" as of July 23, 2014. This was the same rating Moran received in June 2013.[120]\n",
      "Like-minded colleagues\n",
      "The websiteOpenCongresstracks the voting records of each member to determine with whom he or she votes most and least often. The results include a member from each party.[121]\n",
      "Moran most often votes with:Deb FischerJoe ManchinMoran least often votes with:Susan CollinsJack Reed\n",
      "\n",
      "Lifetime voting record\n",
      "See also:Lifetime voting records of United States Senators and Representatives\n",
      "According to the websiteGovTrack,Jerry Moran missed 103 of 1,412 roll call votes from January 2011 to September 2015.  This amounts to 7.3 percent, which is worse than the median of 1.6 percent among current senators as of September 2015.[122]\n",
      "Congressional staff salaries\n",
      "See also:Staff salaries of United States Senators and Representatives\n",
      "The websiteLegistormcompiles staff salary information for members of Congress. Moran paid his congressional staff a total of $1,874,999 in 2011.  He ranked 10th on the list of the lowest paid Republican senatorial staff salaries and  ranked 12th overall of the lowest paid senatorial staff salaries in 2011.  Overall,Kansasranked 20th in average salary for senatorial staff. The averageU.S. Senatecongressional staff was paid $2,529,141.70 in fiscal year 2011.[123]\n",
      "National Journal vote ratings\n",
      "See also:National Journal vote ratings\n",
      "Each yearNational Journalpublishes an analysis of how liberally or conservatively each member of Congress voted in the previous year.\n",
      "2013\n",
      "Moran ranked 16th in the conservative rankings in 2013.[124]\n",
      "2012\n",
      "Moran ranked 29th in the conservative rankings in 2012.[125]\n",
      "2011\n",
      "Moran ranked 30th in the conservative rankings in 2011.[126]\n",
      "Voting with party\n",
      "The websiteOpenCongresstracks how often members of Congress vote with the majority of the chamber caucus.\n",
      "2014\n",
      "Moran voted with the Republican Party91.6 percentof the time, which ranked 6th among the 45 Senate Republican members as of July 2014.[127]\n",
      "2013\n",
      "Moran voted with the Republican Party91.3 percentof the time, which ranked 12th among the 46 Senate Republican members as of June 2013.[128]\n",
      "Note: Pleasecontact usif the personal information below requires an update.Moran lives inKansaswith his wife, Robba, and their two daughers, Kelsey and Alex.[129]\n",
      "This section links to a Google news search for the termJerry + Moran + Kansas + Senate\n",
      "\n",
      "Jerry Moran News Feed\n",
      "KansasU.S. Senate delegation from KansasUnited States SenateUnited States Senate elections, 2014\n",
      "Campaign website\n",
      "Social media:FacebookTwitterYouTubeBiographies:U.S. CongressNNDBWikipediaPolitical profiles:GovTrackCongressMergeOpenCongressProject Vote SmartRoll CallFinancial (federal level):FEC contributionsOpenSecrets.orgLegiStorm.comInterest group ratings:Project Vote SmartIssue positions:On The IssuesProject Vote SmartLegislation:Congress.govPublic statements:Project Vote SmartVoting record:Project Vote SmartWashington PostWorks by or about:WorldCatMedia appearances:C-SPANIMDbMedia coverage:Washington Post\n",
      "\n",
      "\n",
      "↑1.01.11.21.3Bioguide, \"Jerry Moran,\" accessed June 21, 2013Cite error: Invalid<ref>tag; name \"bioguide\" defined multiple times with different content↑United States Senator for Kansas Jerry Moran, \"Biography,\" accessed January 31, 2019↑United States Senate, \"Committee Assignments of the 115th Congress,\" accessed January 19, 2017↑Congressional Quarterly, \"Senate Committee List,\" accessed January 22, 2013↑United States Senate, \"Committee Assignments,\" accessed March 29, 2014↑Official Senate website, \"Committee assignments,\" accessed October 18, 2011↑Senate.gov, \"On the Motion (Motion to Concur in the House Amendment with an Amendment),\" December 18, 2018↑Senate.gov, \"On the Conference Report (Conference Report to Accompany H.R. 2),\" December 11, 2018↑Senate.gov, \"On the Nomination (Confirmation Brett M. Kavanaugh, of Maryland, to be an Associate Justice of the Supreme Court of the United States),\" October 6, 2018↑Senate.gov, \"On the Cloture Motion (Motion to Invoke Cloture Re: Brett M. Kavanaugh to be an Associate Justice of the Supreme Court of the United States),\" October 5, 2018↑Senate.gov, \"On Passage of the Bill (H.R. 2, As Amended),\" June 28, 2018↑Senate.gov, \"On the Cloture Motion (Motion to Invoke Cloture on Amdt. No. 1959),\" February 15, 2018↑Senate.gov, \"On the Cloture Motion (Motion to Invoke Cloture on Amdt. No. 1958 As Modified),\" February 15, 2018↑Senate.gov, \"On the Cloture Motion (Motion to Invoke Cloture on Amdt. No. 1948),\" February 15, 2018↑Senate.gov, \"On the Cloture Motion (Motion to Invoke Cloture on Amdt. No. 1955),\" February 15, 2018↑Senate.gov, \"On Cloture on the Motion to Proceed (Motion to Invoke Cloture on the Motion to Proceed to the Consideration of S. 2311),\" January 29, 2018↑Senate.gov, \"On the Amendment (McConnell Amdt. No. 667),\" July 28, 2017↑Senate.gov, \"On the Amendment (Paul Amdt. No. 271 ),\" July 26, 2017↑Senate.gov, \"On the Motion (Motion to Waive All Applicable Budgetary Discipline Re: Amdt. No. 270),\" July 25, 2017↑Senate.gov, \"On the Motion to Proceed (Motion to Proceed to H.R. 1628),\" July 25, 2017↑U.S. Senate, \"On the Nomination (Confirmation: Neil M. Gorsuch, of Colorado, to be an Associate Justice of the Supreme Court of the United States),\" April 7, 2017↑U.S. Senate, \"On the Cloture Motion (Upon Reconsideration, Motion to Invoke Cloture on the Nomination of Neil M. Gorsuch of Colorado, to be an Associate Justice of the Supreme Court of the United States),\" April 6, 2017↑U.S. Senate, \"On the Decision of the Chair (Shall the Decision of the Chair Stand as the Judgment of the Senate?),\" April 6, 2017↑U.S. Senate, \"On the Cloture Motion (Motion to Invoke Cloture on the Nomination of Neil M. Gorsuch, of Colorado, to be an Associate Justice of the Supreme Court of the United States),\" April 6, 2017↑Senate.gov, \"On the Conference Report (Conference Report to Accompany H.R. 6157),\" September 18, 2018↑Senate.gov, \"On the Conference Report (Conference Report to Accompany H.R. 5895),\" September 12, 2018↑Senate.gov, \"On Passage of the Bill (H. R. 6157 As Amended),\" August 23, 2018↑Senate.gov, \"On Passage of the Bill (H.R. 5895 As Amended),\" June 25, 2018↑Senate.gov, \"On the Motion (Motion to Concur in the House Amendment to the Senate Amendment to H.R. 1625),\" March 23, 2018↑Senate.gov, \"On the Motion (Motion to Concur in the House Amendment to the Senate Amendment to H.R. 1892 with an Amendment (SA 1930)),\" February 9, 2018↑Senate.gov, \"On the Cloture Motion (Motion to Invoke Cloture on the Motion to Concur in the House Amendment to the Senate Amendment to H.R. 695),\" February 8, 2018↑Senate.gov, \"On the Motion (Motion to Concur in the House Amendment to the Senate Amendment with Further Amendment),\" January 22, 2018↑Senate.gov, \"On the Cloture Motion (Motion to Invoke Cloture: Motion to Concur in the House Amendment to the Senate Amendment to H.R. 195),\" January 22, 2018↑Senate.gov, \"On the Cloture Motion (Motion to Invoke Cloture: House Amendment to the Senate Amendment to H.R. 195),\" January 19, 2018↑Senate.gov, \"On the Motion (Motion to Concur in the House Amendment to the Senate Amendment to H.R. 1370),\" December 21, 2017↑Senate.gov, \"On the Motion to Recede from the Senate Amendment to H.R. 1 and Concur with Further Amendment ,\" December 20, 2017↑Senate.gov, \"On the Joint Resolution (H.J. Res. 123),\" December 7, 2017↑Senate.gov, \"On Passage of the Bill (H.R. 1 As Amended ),\" December 2, 2017↑Senate.gov, \"On the Concurrent Resolution (H. Con. Res. 71 As Amended),\" October 19, 2017↑Senate.gov, \"On the Motion (Motion to Concur in the House Amdt. to the Senate Amdt. with an Amdt. No. 808 to H.R. 601),\" September 7, 2017↑U.S. Senate, \"On the Motion (Motion to Concur in the House Amendment to the Senate Amendment to H.R. 244),\" May 4, 2017↑Senate.gov, \"On the Joint Resolution (S.J. Res. 54, As Amended), December 13, 2018↑Senate.gov, \"On Passage of the Bill (H.R. 2810 As Amended),\" September 18, 2017↑The Hill, \"Senate sends $692B defense policy bill to Trump's desk,\" November 15, 2017↑Senate.gov, \"On Passage of the Bill (H.R. 3364),\" July 27, 2017↑Senate.gov, \"On Passage of the Bill (S. 722 As Amended),\" June 15, 2017↑Congressional Record, \"Resume of Congressional Activity, First Session of the 113th Congress,\" accessed April 29, 2015↑Congressional Record, \"Resume of Congressional Activity, Second Session of the 114th Congress,\" accessed January 5, 2017↑Congressional Record, \"Resume of Congressional Activity, First Session of the One Hundred Fourteenth Congress,\" April 13, 2015↑Congress.gov, \"HR 1314,\" accessed May 25, 2015↑Senate.gov, \"H.R. 1314 (Ensuring Tax Exempt Organizations the Right to Appeal Act),\" accessed May 25, 2015↑Senate.gov, \"Roll Call for HR 2146,\" June 24, 2015↑The Hill, \"Senate approves fast-track, sending trade bill to White House,\" June 24, 2015↑The Hill, \"Obama signs trade bills,\" June 29, 2015↑Congress.gov, \"S.Con.Res.11,\" accessed May 5, 2015↑Senate.gov, \"On the Conference Report (Conference Report to Accompany S. Con. Res. 11),\" accessed May 5, 2015↑The Hill, \"Republicans pass a budget, flexing power of majority,\" accessed May 5, 2015↑The Hill, \"Redone defense policy bill sails through House,\" accessed November 12, 2015↑Congress.gov, \"S. 1356,\" accessed November 12, 2015↑Senate.gov, \"On the Motion (Motion to Concur in the House Amendment to S. 1356),\" accessed November 12, 2015↑Clerk.House.gov, \"Final Vote Results for Roll Call 618,\" accessed November 12, 2015↑Senate.gov, \"On the Cloture Motion (Motion to Invoke Cloture Re: Conference Report to Accompany H.R. 1735),\" accessed October 6, 2015↑Clerk.House.gov, \"Final Vote Results for Roll Call 239,\" accessed May 27, 2015↑Congress.gov, \"H.R. 1735,\" accessed May 27, 2015↑Congress.gov, \"HR 1314 - Bipartisan Budget Act of 2015,\" accessed November 1, 2015↑Senate.gov, \"On the Motion (Motion to Concur in the House Amendment to the Senate Amendment to H.R. 1314),\" accessed November 1, 2015↑Clerk.House.gov, \"Final Vote Results for Roll Call 579,\" accessed November 1, 2015↑Congress.gov, \"HR 1191,\" accessed May 8, 2015↑Senate.gov, \"H.R. 1191,\" accessed May 8, 2015↑Congress.gov, \"S.Amdt.2640 to H.J.Res.61,\" accessed September 10, 2015↑Congress.gov, \"HJ Res 61,\" accessed September 10, 2015↑Senates.gov, \"On the Cloture Motion (Motion to Invoke Cloture on McConnell Amdt. No. 2640 ),\" accessed September 16, 2015↑Congress.gov, \"HJ Res 61,\" accessed September 10, 2015↑Senate.gov, \"On the Cloture Motion (Motion to Invoke Cloture on McConnell Amdt. No. 2640 ),\" accessed September 17, 2015↑Congress.gov, \"S.Amdt.2656 to S.Amdt.2640,\" accessed September 17, 2015↑Senate.gov, \"On the Cloture Motion (Motion to Invoke Cloture on McConnell Amdt. No. 2656),\" accessed September 17, 2015↑Congress.gov, \"H.R.2048,\" accessed May 26, 2015↑Senate.gov, \"On Passage of the Bill (H.R. 2048),\" accessed June 2, 2015↑Senate.gov, \"On the Nomination (Confirmation Loretta E. Lynch, of New York, to be Attorney General),\" accessed April 29, 2015↑Congress.gov, \"S 754,\" accessed November 1, 2015↑Senate.gov, \"On Passage of the Bill (S. 754, As Amended),\" accessed November 1, 2015↑Congress.gov, \"S 2146,\" accessed November 2, 2015↑Senate.gov, \"On Cloture on the Motion to Proceed (Motion to Invoke Cloture on the Motion to Proceed to S. 2146),\" accessed November 2, 2015↑Congressional Record, \"Resume of Congressional Activity, First Session of the 112th Congress,\" accessed September 5, 2013↑Congressional Record, \"Resume of Congressional Activity, Second Session of the 113th Congress,\" accessed March 4, 2014↑86.086.186.286.3Project Vote Smart, \"Jerry Moran Key Votes,\" accessed October 17, 2013↑Senate.gov, \"H.R. 2642 (Federal Agriculture Reform and Risk Management Act of 2013),\" accessed February 12, 2014↑New York Times, \"Senate Passes Long-Stalled Farm Bill, With Clear Winners and Losers,\" accessed February 12, 2014↑89.089.1Politico,\"Senate approves $1.1 trillion spending bill,\" accessed January 20, 2014↑90.090.190.2U.S. Senate,\"January 16 Vote,\" accessed January 20, 2014↑Roll Call,\"House Passes $1.1 Trillion Omnibus,\" accessed January 20, 2014↑The Washington Post, \"Reid, McConnell propose bipartisan Senate bill to end shutdown, extend borrowing,\" accessed October 16, 2013↑Senate.gov, \"H.R. 2775 As Amended,\" accessed October 31, 2013↑WatchDog.org, \"5 Kansas stances on the government shutdown solution,\" accessed October 23, 2013↑U.S. Senate, \"Roll Call Vote on the Fiscal Cliff,\" accessed January 4, 2013↑The Wall Street Journal, \"Text of GOP Senators’ Letter to Iran’s Leaders on Nuclear Talks,\" March 9, 2015↑Politico, \"Iran letter blowback startles GOP,\" March 12, 2015↑Fox News, \"Firestorm erupts over GOP letter challenging Obama's power to approve Iran nuclear deal,\" March 10, 2015↑CNN, \"Rand Paul says he's heard from White House after filibuster,\" March 7, 2013↑USA Today, \"Rand Paul filibuster ranks among Senate's longest,\" March 7, 2013↑ABC News, \"Rand Paul Wins Applause From GOP and Liberals,\" March 7, 2013↑The Blaze, \"Here Are All the GOP Senators That Participated in Rand Paul’s 12+ Hour Filibuster… and the Ones Who Didn’t,\" March 7, 2013↑Los Angeles Times, \"Sen. Rand Paul ends marathon filibuster of John Brennan,\" March 7, 2013↑Breitbart, \"AWOL: Meet The GOP Senators Who Refused to Stand With Rand,\" March 7, 2013↑Politico, \"Rand Paul filibuster blasted by Sens. John McCain, Lindsey Graham,\" March 7, 2013↑Politico, \"Rand Paul pulls plug on nearly 13-hour filibuster,\" March 7, 2017↑Washington Post, \"Eric Holder responds to Rand Paul with ‘no’,\" March 7, 2013↑Kansas Secretary of State, \"Candidates for the 2016 Primary,\" accessed June 2, 2016↑Politico, \"Kansas House Primaries Results,\" August 2, 2016↑Note: This text is quoted verbatim from the original source. Any inconsistencies are attributable to the original source.↑U.S. Congress House Clerk, \"Statistics of the Congressional Election of November 2, 2010,\" accessed March 28, 2013↑Open Secrets, \"Career Fundraising for Jerry Moran,\" accessed May 16, 2017↑Open Secrets, \"Winning vs. Spending,\" accessed March 22, 2016↑OpenSecrets, \"Jerry Moran (R-KS), 2012,\" accessed February 18, 2014↑This figure represents the average annual percentage growth from either 2004 (if the member entered office in 2004 or earlier) or their first year in office (as noted in the chart below) to 2012, divided by the number of years calculated.↑This number was found by dividing each member's total net worth growth percentage by the number of years included in the calculation.↑This figure represents the total percentage growth divided by the number of years for which there are net worth figures for each member.↑This figure was calculated using median asset data from the Census Bureau. Please see theCongressional Net Worth data for Ballotpedia spreadsheetfor more information on this calculation.↑OpenSecrets.org, \"Sen. Jerry Moran,\" accessed September 18, 2014↑GovTrack, \"Jerry Moran,\" accessed July 23, 2014↑OpenCongress, \"Sen. Jerry Moran,\" accessed September 23, 2015↑GovTrack, \"Sen. Jerry Moran (R),\" accessed September 23, 2015↑LegiStorm, \"Jerry Moran,\" accessed 2012↑National Journal, \"2013 Senate Vote Ratings,\" accessed July 23, 2014↑National Journal, \"2012 Congressional Vote Ratings,\" accessed February 28, 2013↑National Journal, \"Searchable Vote Ratings Tables: Senate,\" accessed February 23, 2012↑OpenCongress, \"Voting With Party,\" accessed July 2014↑OpenCongress, \"Voting With Party,\" accessed July 2014↑Official Senate website, \"Biography,\" accessed October 18, 2011\n",
      "Political officesPreceded bySam BrownbackU.S. Senate- Kansas2011-PresentSucceeded by-Preceded byPat RobertsU.S. House of Representatives- Kansas, District 11997-2011Succeeded byTim Huelskamp(R)Preceded byPat RobertsKansas State Senate1997-2011Succeeded byTim Huelskamp(R)\n",
      "v•eKansas' current delegationto theUnited States CongressSenatorsJerry Moran(R) •Roger Marshall(R)RepresentativesSharice Davids(D) •Steve Watkins(R) •Ron Estes(R) •Roger Marshall(R)Other states' delegationsAlabama•Alaska•Arizona•Arkansas•California•Colorado•Connecticut•Delaware•Florida•Georgia•Hawaii•Idaho•Illinois•Indiana•Iowa•Kansas•Kentucky•Louisiana•Maine•Maryland•Massachusetts•Michigan•Minnesota•Mississippi•Missouri•Montana•Nebraska•Nevada•New Hampshire•New Jersey•New Mexico•New York•North Carolina•North Dakota•Ohio•Oklahoma•Oregon•Pennsylvania•Rhode Island•South Carolina•South Dakota•Tennessee•Texas•Utah•Vermont•Virginia•Washington•West Virginia•Wisconsin•Wyoming\n",
      "v•eStateofKansasTopeka(capital)ElectionsKansas elections in 2021|Voting in Kansas|What's on my ballot?|Elections calendar|Election governance|Ballot access for candidates|Ballot access for parties|Campaign finance requirements|RedistrictingBallotmeasuresList of Kansas ballot measures|Local measures|Ballot measure laws|Campaign finance requirementsGovernmentWho represents me?|Congressional delegation|State executives|State legislature|State Senate|House of Representatives|2021 legislative session|Largest counties|Largest cities|School districts in Kansas|State constitutionJudiciaryCourts in Kansas|Judicial Selection|Federal courts|Supreme Court|Court of Appeals|District Courts|Municipal CourtsPublicPolicyBudget and finances|Energy|Environment|Financial regulation|Healthcare|Immigration|Public education|Public pensions|Taxes\n"
     ]
    }
   ],
   "source": [
    "from bs4 import NavigableString, Tag\n",
    "\n",
    "# the dataframe in which we will put the scraper's output\n",
    "df_parsed=pd.DataFrame()\n",
    "\n",
    "for url in list_url[:1]:\n",
    "    print('--------',url, '--------')\n",
    "    #1. Get the soup\n",
    "    response = requests.get(url)\n",
    "    html=response.text\n",
    "    soup = BeautifulSoup(html, 'html.parser') # parse html of web page\n",
    "    \n",
    "    dic_text_by_header=dict()\n",
    "    #2. Extract info from the soup\n",
    "    # get all the text content between 2 header (h2)\n",
    "    for header in soup.find_all('h2')[0:len(soup.find_all('h2'))-1] :\n",
    "        # print('--------',header.get_text())        \n",
    "        nextNode=header\n",
    "        # use the nextSibling method\n",
    "        while True:\n",
    "            nextNode=nextNode.nextSibling\n",
    "            if nextNode is None:\n",
    "                break\n",
    "            if isinstance(nextNode, Tag):\n",
    "                if nextNode.name == \"h2\":\n",
    "                    break\n",
    "                print(nextNode.get_text(strip=True).strip())\n",
    "                # The result is put in a dictionary as a value for key=corresponding header\n",
    "                dic_text_by_header[header.get_text()]=[nextNode.get_text(strip=True).strip()]\n",
    "                \n",
    "    # put the dictionary into a dataframe\n",
    "    temp=pd.DataFrame.from_dict(dic_text_by_header)\n",
    "\n",
    "    # Concats the temporary dataframe with the global one\n",
    "    df_parsed=pd.concat([temp, df_parsed])"
   ]
  },
  {
   "cell_type": "code",
   "execution_count": 17,
   "metadata": {
    "slideshow": {
     "slide_type": "subslide"
    }
   },
   "outputs": [
    {
     "data": {
      "text/html": [
       "<div>\n",
       "<style scoped>\n",
       "    .dataframe tbody tr th:only-of-type {\n",
       "        vertical-align: middle;\n",
       "    }\n",
       "\n",
       "    .dataframe tbody tr th {\n",
       "        vertical-align: top;\n",
       "    }\n",
       "\n",
       "    .dataframe thead th {\n",
       "        text-align: right;\n",
       "    }\n",
       "</style>\n",
       "<table border=\"1\" class=\"dataframe\">\n",
       "  <thead>\n",
       "    <tr style=\"text-align: right;\">\n",
       "      <th></th>\n",
       "      <th>Biography</th>\n",
       "      <th>Elections</th>\n",
       "      <th>Campaign donors</th>\n",
       "      <th>Noteworthy events</th>\n",
       "      <th>State legislative career</th>\n",
       "      <th>Notable endorsements</th>\n",
       "      <th>See also</th>\n",
       "      <th>External links</th>\n",
       "      <th>Footnotes</th>\n",
       "      <th>Career</th>\n",
       "      <th>U.S. Senate</th>\n",
       "      <th>Key votes</th>\n",
       "      <th>Campaign themes</th>\n",
       "      <th>Analysis</th>\n",
       "      <th>Personal Gain Index</th>\n",
       "      <th>2016 Democratic National Convention</th>\n",
       "      <th>Committee assignments</th>\n",
       "      <th>Issues</th>\n",
       "      <th>Personal</th>\n",
       "      <th>Recent news</th>\n",
       "      <th>Presidential preference</th>\n",
       "    </tr>\n",
       "  </thead>\n",
       "  <tbody>\n",
       "    <tr>\n",
       "      <th>0</th>\n",
       "      <td>2021 - Present: U.S. Senator fromCalifornia201...</td>\n",
       "      <td>California State Senate, District 20Candidates...</td>\n",
       "      <td>The finance data shown here comes from the dis...</td>\n",
       "      <td>“I will not provide sensitive voter informatio...</td>\n",
       "      <td></td>\n",
       "      <td>Notable endorsements by Alex PadillaEndorseePa...</td>\n",
       "      <td>United States SenateUnited States congressiona...</td>\n",
       "      <td></td>\n",
       "      <td></td>\n",
       "      <td>NaN</td>\n",
       "      <td>NaN</td>\n",
       "      <td>NaN</td>\n",
       "      <td>NaN</td>\n",
       "      <td>NaN</td>\n",
       "      <td>NaN</td>\n",
       "      <td>NaN</td>\n",
       "      <td>NaN</td>\n",
       "      <td>NaN</td>\n",
       "      <td>NaN</td>\n",
       "      <td>NaN</td>\n",
       "      <td>NaN</td>\n",
       "    </tr>\n",
       "    <tr>\n",
       "      <th>0</th>\n",
       "      <td>NaN</td>\n",
       "      <td></td>\n",
       "      <td></td>\n",
       "      <td>On May 26, aides from Feinstein's office confi...</td>\n",
       "      <td>NaN</td>\n",
       "      <td>The following table shows a list of notable en...</td>\n",
       "      <td>United States SenateUnited States congressiona...</td>\n",
       "      <td></td>\n",
       "      <td></td>\n",
       "      <td>1992-Present: U.S. Senator from California1990...</td>\n",
       "      <td>AppropriationsSubcommittee on Agriculture, Rur...</td>\n",
       "      <td></td>\n",
       "      <td>\"Accomplished\" - Feinstein campaign ad, releas...</td>\n",
       "      <td>The websiteLegistormcompiles staff salary info...</td>\n",
       "      <td>Dianne Feinstein Campaign ContributionsTotal R...</td>\n",
       "      <td></td>\n",
       "      <td>NaN</td>\n",
       "      <td>NaN</td>\n",
       "      <td>NaN</td>\n",
       "      <td>NaN</td>\n",
       "      <td>NaN</td>\n",
       "    </tr>\n",
       "    <tr>\n",
       "      <th>0</th>\n",
       "      <td>Cardin was born in 1943 in Baltimore,MD, where...</td>\n",
       "      <td>U.S. Senate General Election, Maryland, 2008Pa...</td>\n",
       "      <td></td>\n",
       "      <td>NaN</td>\n",
       "      <td>NaN</td>\n",
       "      <td>NaN</td>\n",
       "      <td>MarylandUnited States SenateU.S. Senate delega...</td>\n",
       "      <td></td>\n",
       "      <td></td>\n",
       "      <td>2007-Present: U.S. Senator from Maryland1987-2...</td>\n",
       "      <td>NaN</td>\n",
       "      <td></td>\n",
       "      <td>“A third-generation Marylander, Ben Cardin has...</td>\n",
       "      <td>Cardin voted with the Democratic Party96 perce...</td>\n",
       "      <td>Ben Cardin Campaign ContributionsTotal Raised$...</td>\n",
       "      <td></td>\n",
       "      <td>Budget CommitteeEnvironment and Public Works C...</td>\n",
       "      <td></td>\n",
       "      <td>Note: Pleasecontact usif the personal informat...</td>\n",
       "      <td>Ben Cardin News Feed</td>\n",
       "      <td>NaN</td>\n",
       "    </tr>\n",
       "    <tr>\n",
       "      <th>0</th>\n",
       "      <td>Van Hollen was born in 1959 in Karachi, Pakist...</td>\n",
       "      <td></td>\n",
       "      <td></td>\n",
       "      <td>NaN</td>\n",
       "      <td>NaN</td>\n",
       "      <td>NaN</td>\n",
       "      <td>MarylandUnited States congressional delegation...</td>\n",
       "      <td></td>\n",
       "      <td>v•eStateofMarylandAnnapolis(capital)ElectionsM...</td>\n",
       "      <td>2017-Present: U.S. Senator fromMaryland2003-20...</td>\n",
       "      <td>NaN</td>\n",
       "      <td></td>\n",
       "      <td>NaN</td>\n",
       "      <td>Van Hollen voted with the Democratic Party93.4...</td>\n",
       "      <td>Chris Van Hollen Campaign ContributionsTotal R...</td>\n",
       "      <td>Delegate to the 2016 DNC (click to expand)See ...</td>\n",
       "      <td>Budget CommitteeRanking Member</td>\n",
       "      <td>\"I look at results, and the result could not b...</td>\n",
       "      <td>Note: Pleasecontact usif the personal informat...</td>\n",
       "      <td>Chris Van Hollen News Feed</td>\n",
       "      <td>NaN</td>\n",
       "    </tr>\n",
       "    <tr>\n",
       "      <th>0</th>\n",
       "      <td>Warner was born in Indiana and raised in Conne...</td>\n",
       "      <td>U.S. Senate, Virginia General Election, 2008Pa...</td>\n",
       "      <td></td>\n",
       "      <td>On January 27, 2021, Warner announced that he ...</td>\n",
       "      <td>NaN</td>\n",
       "      <td>NaN</td>\n",
       "      <td></td>\n",
       "      <td></td>\n",
       "      <td></td>\n",
       "      <td>2008-Present:U.S. SenatorfromVirginia2002-2006...</td>\n",
       "      <td>NaN</td>\n",
       "      <td></td>\n",
       "      <td>Mark Warner did not completeBallotpedia's 2020...</td>\n",
       "      <td></td>\n",
       "      <td>Mark Warner Campaign ContributionsTotal Raised...</td>\n",
       "      <td></td>\n",
       "      <td>Committee on Banking, Housing &amp; Urban AffairsH...</td>\n",
       "      <td>NaN</td>\n",
       "      <td>In 2004,Governingmagazine named Warner and Sen...</td>\n",
       "      <td>NaN</td>\n",
       "      <td>Warner was mentioned as apossible Democratic v...</td>\n",
       "    </tr>\n",
       "  </tbody>\n",
       "</table>\n",
       "</div>"
      ],
      "text/plain": [
       "                                           Biography  \\\n",
       "0  2021 - Present: U.S. Senator fromCalifornia201...   \n",
       "0                                                NaN   \n",
       "0  Cardin was born in 1943 in Baltimore,MD, where...   \n",
       "0  Van Hollen was born in 1959 in Karachi, Pakist...   \n",
       "0  Warner was born in Indiana and raised in Conne...   \n",
       "\n",
       "                                           Elections  \\\n",
       "0  California State Senate, District 20Candidates...   \n",
       "0                                                      \n",
       "0  U.S. Senate General Election, Maryland, 2008Pa...   \n",
       "0                                                      \n",
       "0  U.S. Senate, Virginia General Election, 2008Pa...   \n",
       "\n",
       "                                     Campaign donors  \\\n",
       "0  The finance data shown here comes from the dis...   \n",
       "0                                                      \n",
       "0                                                      \n",
       "0                                                      \n",
       "0                                                      \n",
       "\n",
       "                                   Noteworthy events State legislative career  \\\n",
       "0  “I will not provide sensitive voter informatio...                            \n",
       "0  On May 26, aides from Feinstein's office confi...                      NaN   \n",
       "0                                                NaN                      NaN   \n",
       "0                                                NaN                      NaN   \n",
       "0  On January 27, 2021, Warner announced that he ...                      NaN   \n",
       "\n",
       "                                Notable endorsements  \\\n",
       "0  Notable endorsements by Alex PadillaEndorseePa...   \n",
       "0  The following table shows a list of notable en...   \n",
       "0                                                NaN   \n",
       "0                                                NaN   \n",
       "0                                                NaN   \n",
       "\n",
       "                                            See also External links  \\\n",
       "0  United States SenateUnited States congressiona...                  \n",
       "0  United States SenateUnited States congressiona...                  \n",
       "0  MarylandUnited States SenateU.S. Senate delega...                  \n",
       "0  MarylandUnited States congressional delegation...                  \n",
       "0                                                                     \n",
       "\n",
       "                                           Footnotes  \\\n",
       "0                                                      \n",
       "0                                                      \n",
       "0                                                      \n",
       "0  v•eStateofMarylandAnnapolis(capital)ElectionsM...   \n",
       "0                                                      \n",
       "\n",
       "                                              Career  \\\n",
       "0                                                NaN   \n",
       "0  1992-Present: U.S. Senator from California1990...   \n",
       "0  2007-Present: U.S. Senator from Maryland1987-2...   \n",
       "0  2017-Present: U.S. Senator fromMaryland2003-20...   \n",
       "0  2008-Present:U.S. SenatorfromVirginia2002-2006...   \n",
       "\n",
       "                                         U.S. Senate Key votes  \\\n",
       "0                                                NaN       NaN   \n",
       "0  AppropriationsSubcommittee on Agriculture, Rur...             \n",
       "0                                                NaN             \n",
       "0                                                NaN             \n",
       "0                                                NaN             \n",
       "\n",
       "                                     Campaign themes  \\\n",
       "0                                                NaN   \n",
       "0  \"Accomplished\" - Feinstein campaign ad, releas...   \n",
       "0  “A third-generation Marylander, Ben Cardin has...   \n",
       "0                                                NaN   \n",
       "0  Mark Warner did not completeBallotpedia's 2020...   \n",
       "\n",
       "                                            Analysis  \\\n",
       "0                                                NaN   \n",
       "0  The websiteLegistormcompiles staff salary info...   \n",
       "0  Cardin voted with the Democratic Party96 perce...   \n",
       "0  Van Hollen voted with the Democratic Party93.4...   \n",
       "0                                                      \n",
       "\n",
       "                                 Personal Gain Index  \\\n",
       "0                                                NaN   \n",
       "0  Dianne Feinstein Campaign ContributionsTotal R...   \n",
       "0  Ben Cardin Campaign ContributionsTotal Raised$...   \n",
       "0  Chris Van Hollen Campaign ContributionsTotal R...   \n",
       "0  Mark Warner Campaign ContributionsTotal Raised...   \n",
       "\n",
       "                 2016 Democratic National Convention  \\\n",
       "0                                                NaN   \n",
       "0                                                      \n",
       "0                                                      \n",
       "0  Delegate to the 2016 DNC (click to expand)See ...   \n",
       "0                                                      \n",
       "\n",
       "                               Committee assignments  \\\n",
       "0                                                NaN   \n",
       "0                                                NaN   \n",
       "0  Budget CommitteeEnvironment and Public Works C...   \n",
       "0                     Budget CommitteeRanking Member   \n",
       "0  Committee on Banking, Housing & Urban AffairsH...   \n",
       "\n",
       "                                              Issues  \\\n",
       "0                                                NaN   \n",
       "0                                                NaN   \n",
       "0                                                      \n",
       "0  \"I look at results, and the result could not b...   \n",
       "0                                                NaN   \n",
       "\n",
       "                                            Personal  \\\n",
       "0                                                NaN   \n",
       "0                                                NaN   \n",
       "0  Note: Pleasecontact usif the personal informat...   \n",
       "0  Note: Pleasecontact usif the personal informat...   \n",
       "0  In 2004,Governingmagazine named Warner and Sen...   \n",
       "\n",
       "                  Recent news  \\\n",
       "0                         NaN   \n",
       "0                         NaN   \n",
       "0        Ben Cardin News Feed   \n",
       "0  Chris Van Hollen News Feed   \n",
       "0                         NaN   \n",
       "\n",
       "                             Presidential preference  \n",
       "0                                                NaN  \n",
       "0                                                NaN  \n",
       "0                                                NaN  \n",
       "0                                                NaN  \n",
       "0  Warner was mentioned as apossible Democratic v...  "
      ]
     },
     "execution_count": 17,
     "metadata": {},
     "output_type": "execute_result"
    }
   ],
   "source": [
    "df_parsed.head()"
   ]
  },
  {
   "cell_type": "markdown",
   "metadata": {
    "slideshow": {
     "slide_type": "subslide"
    }
   },
   "source": [
    "### Saving the `DataFrame` in a `pickle` format"
   ]
  },
  {
   "cell_type": "markdown",
   "metadata": {},
   "source": [
    "<div class=\"alert alert-block alert-warning\">\n",
    "<i class=\"fa fa-warning\"></i>&nbsp;<code>pickle</code> format\n",
    "    <ul>\n",
    "        <li> Useful to store <code>python</code> objects \n",
    "        </li>\n",
    "        <li> Well integrated in  <code>pandas</code> (using <code>to_pickle</code> and <code>read_pickle</code>)\n",
    "        </li>\n",
    "        <li> When the object is not a pandas Dataframe, use the <code>pickle</code> package\n",
    "        </li>\n",
    "    </ul>\n",
    "</div>\n"
   ]
  },
  {
   "cell_type": "markdown",
   "metadata": {
    "slideshow": {
     "slide_type": "subslide"
    }
   },
   "source": [
    "<div class=\"alert alert-block alert-warning\">\n",
    "<i class=\"fa fa-warning\"></i>&nbsp;<code>os</code> package\n",
    "    <ul>\n",
    "        <li> <code>os.getcwd()</code>: fetchs the current path\n",
    "        </li>\n",
    "        <li> <code>os.path.dirname()</code>: go back to the parent directory\n",
    "        </li>\n",
    "        <li> <code>os.path.join()</code>: concatenates several paths\n",
    "        </li>\n",
    "    </ul>\n",
    "</div>"
   ]
  },
  {
   "cell_type": "code",
   "execution_count": 18,
   "metadata": {},
   "outputs": [],
   "source": [
    "import os\n",
    "parent_path=os.path.dirname(os.getcwd()) # os.getcwd() fetchs the current path, \n",
    "data_path=os.path.join(parent_path, 'data') \n",
    "df_parsed.to_pickle(os.path.join(data_path, 'df_senators.pickle'))"
   ]
  },
  {
   "cell_type": "markdown",
   "metadata": {
    "slideshow": {
     "slide_type": "subslide"
    }
   },
   "source": [
    "### Going further\n",
    "\n",
    "There are also **dynamic websites**: the server does not always send back HTML, but your browser also receive and interpret JavaScript code that you cannot retreive from the HTML. You receive JavaScript code that you cannot parse using `beautiful soup` but that you would need to execute like a browser does. \n",
    "\n",
    "Solutions: \n",
    "- Use `requests-html` \n",
    "- Simulate a browser using [selenium](https://selenium-python.readthedocs.io/) "
   ]
  },
  {
   "cell_type": "markdown",
   "metadata": {
    "slideshow": {
     "slide_type": "slide"
    }
   },
   "source": [
    "# Application Programming Interfaces (API)"
   ]
  },
  {
   "cell_type": "markdown",
   "metadata": {
    "slideshow": {
     "slide_type": "subslide"
    }
   },
   "source": [
    "### What is an API?\n",
    "\n",
    "Communication layer that allows different systems to talk to each other without having to understand exactly what each other does.\n",
    "\n",
    "$\\Rightarrow$ provide a to **progammable** access to data."
   ]
  },
  {
   "cell_type": "markdown",
   "metadata": {
    "slideshow": {
     "slide_type": "subslide"
    }
   },
   "source": [
    "The website [Programmable Web](https://www.programmableweb.com/apis/directory) lists more than 225,353 API from sites as diverse as Google, Amazon, YouTube, the New York Times, del.icio.us, LinkedIn, and many others.\n",
    "\n",
    "<center>\n",
    "<div class=\"r-stack\"><img src=\"https://www.programmableweb.com/sites/default/files/2019-06-total-apis-since-2005.png\" style=\"height: 400px;\" > </div>\n",
    "</center>\n",
    "\n",
    "Source: [Programmable Web](https://www.programmableweb.com/news/apis-show-faster-growth-rate-2019-previous-years/research/2019/07/17) \n"
   ]
  },
  {
   "cell_type": "markdown",
   "metadata": {
    "slideshow": {
     "slide_type": "subslide"
    }
   },
   "source": [
    "### How Does an API Work?\n",
    "\n",
    "- Relying on **HTTP messages** :\n",
    "    - `request` for information or data, \n",
    "    - the API returns a `response` with what you requested\n",
    "- Similar to visiting a website: you specify a URL and information is sent to your machine.\n",
    "\n",
    "###  Better than webscraping if possible because: \n",
    "- More stable than webpages\n",
    "- No HTML but already structured data (e.g. in `json`)\n",
    "- we focus on the APIs that use HTTP protocol"
   ]
  },
  {
   "cell_type": "markdown",
   "metadata": {
    "slideshow": {
     "slide_type": "subslide"
    }
   },
   "source": [
    "<center>\n",
    "<img src=\"https://s3.us-west-1.wasabisys.com/idbwmedia.com/images/api/restapi_restapi.svg\">\n",
    "</center>"
   ]
  },
  {
   "cell_type": "markdown",
   "metadata": {},
   "source": [
    "### HTTP Methods\n",
    "| HTTP Method | Description                  | Requests method   |\n",
    "|-------------|------------------------------|-------------------|\n",
    "| POST        | Create a new resource.       | requests.post()   |\n",
    "| GET         | Read an existing resource.   | requests.get()    |\n",
    "| PUT         | Update an existing resource. | requests.put()    |\n",
    "| DELETE      | Delete an existing resource. | requests.delete() |"
   ]
  },
  {
   "cell_type": "markdown",
   "metadata": {
    "slideshow": {
     "slide_type": "subslide"
    }
   },
   "source": []
  },
  {
   "cell_type": "markdown",
   "metadata": {
    "slideshow": {
     "slide_type": "subslide"
    }
   },
   "source": [
    "## Calling Your First API Using Python"
   ]
  },
  {
   "attachments": {
    "image.png": {
     "image/png": "[encoded data removed]"
    }
   },
   "cell_type": "markdown",
   "metadata": {},
   "source": [
    "Forecasts from the [**Carbon Intensity API**](https://carbonintensity.org.uk/) (include CO2 emissions related to eletricity generation only).\n",
    "\n",
    "See the API [documentation](https://carbon-intensity.github.io/api-definitions/#carbon-intensity-api-v2-0-0)\n",
    "\n",
    "<center>\n",
    "<img src=\"attachment:image.png\">\n",
    "</center>\n"
   ]
  },
  {
   "cell_type": "code",
   "execution_count": 19,
   "metadata": {
    "slideshow": {
     "slide_type": "subslide"
    }
   },
   "outputs": [
    {
     "data": {
      "text/plain": [
       "<Response [200]>"
      ]
     },
     "execution_count": 19,
     "metadata": {},
     "output_type": "execute_result"
    }
   ],
   "source": [
    "import requests\n",
    "headers = { \n",
    "  'Accept': 'application/json'\n",
    "}\n",
    "# fetch (or get) data from the URL\n",
    "requests.get('https://api.carbonintensity.org.uk', params={}, headers = headers) "
   ]
  },
  {
   "cell_type": "code",
   "execution_count": 20,
   "metadata": {},
   "outputs": [
    {
     "name": "stdout",
     "output_type": "stream",
     "text": [
      "<!DOCTYPE html>\r\n",
      "<html lang=\"en\">\r\n",
      "  <head>\r\n",
      "    <title>Carbon Intensity API</title>\r\n",
      "    <meta charset=\"utf-8\">\r\n",
      "    <meta name=\"viewport\" content=\"width=device-width, initial-scale=1\">\r\n",
      "    <link rel=\"stylesheet\" href=\"https://maxcdn.bootstrapcdn.com/bootstrap/3.3.7/css/bootstrap.min.css\">\r\n",
      "    <script src=\"https://ajax.googleapis.com/ajax/libs/jquery/3.2.1/jquery.min.js\"></script>\r\n",
      "    <script src=\"https://maxcdn.bootstrapcdn.com/bootstrap/3.3.7/js/bootstrap.min.js\"></script>\r\n",
      "    <style>\r\n",
      "  \n"
     ]
    }
   ],
   "source": [
    "response = requests.get('https://api.carbonintensity.org.uk', params={}, headers = headers) \n",
    "print(response.text[:500])"
   ]
  },
  {
   "cell_type": "markdown",
   "metadata": {
    "slideshow": {
     "slide_type": "subslide"
    }
   },
   "source": [
    "### Endpoints and Resources\n",
    "- **base URL**: https://api.carbonintensity.org.uk\n",
    "    - Other examples: https://api.twitter.com; https://api.github.com\n",
    "    - very basic information about an API, not the real data.\n",
    "- Extend the url with **endpoint**\n",
    "    - = a part of the URL that specifies what resource you want to fetch\n",
    "    - check the [documentation](https://carbon-intensity.github.io/api-definitions/#carbon-intensity-api-v2-0-0)\n",
    " to learn more about what endpoints are available"
   ]
  },
  {
   "cell_type": "markdown",
   "metadata": {
    "slideshow": {
     "slide_type": "subslide"
    }
   },
   "source": [
    "### Using the `intensity`  endpoint:"
   ]
  },
  {
   "cell_type": "code",
   "execution_count": 21,
   "metadata": {},
   "outputs": [
    {
     "name": "stdout",
     "output_type": "stream",
     "text": [
      "--- text ---\n",
      "('{ \\r\\n'\n",
      " '  \"data\":[{ \\r\\n'\n",
      " '    \"from\": \"2021-03-07T22:00Z\",\\r\\n'\n",
      " '    \"to\": \"2021-03-07T22:30Z\",\\r\\n'\n",
      " '    \"intensity\": {\\r\\n'\n",
      " '      \"forecast\": 237,\\r\\n'\n",
      " '      \"actual\": null, \\r\\n'\n",
      " '      \"index\": \"moderate\"\\r\\n'\n",
      " '    }\\r\\n'\n",
      " '  }]\\r\\n'\n",
      " '}')\n",
      "--- Content ---\n",
      "(b'{ \\r\\n  \"data\":[{ \\r\\n    \"from\": \"2021-03-07T22:00Z\",\\r\\n    \"to\": \"2021-'\n",
      " b'03-07T22:30Z\",\\r\\n    \"intensity\": {\\r\\n      \"forecast\": 237,\\r\\n      \"a'\n",
      " b'ctual\": null, \\r\\n      \"index\": \"moderate\"\\r\\n    }\\r\\n  }]\\r\\n}')\n",
      "--- JSON---\n",
      "{'data': [{'from': '2021-03-07T22:00Z',\n",
      "           'intensity': {'actual': None, 'forecast': 237, 'index': 'moderate'},\n",
      "           'to': '2021-03-07T22:30Z'}]}\n"
     ]
    }
   ],
   "source": [
    "# Get Carbon Intensity data for current half hour\n",
    "r = requests.get('https://api.carbonintensity.org.uk/intensity', params={}, headers = headers)\n",
    "\n",
    "# Different outputs:\n",
    "print(\"--- text ---\")\n",
    "pprint(r.text)\n",
    "print(\"--- Content ---\")\n",
    "pprint(r.content)\n",
    "print(\"--- JSON---\")\n",
    "pprint(r.json())"
   ]
  },
  {
   "cell_type": "markdown",
   "metadata": {
    "slideshow": {
     "slide_type": "subslide"
    }
   },
   "source": [
    "<div class=\"alert alert-block alert-warning\">\n",
    "<h2><i class=\"fa fa-warning\"></i><code>json</code> </h2>\n",
    "    <ul>\n",
    "        <li><code>json</code>= python dictionary\n",
    "        </li>\n",
    "        <li>A great format for structured data\n",
    "        </li>\n",
    "    </ul>\n",
    "</div>"
   ]
  },
  {
   "cell_type": "code",
   "execution_count": 22,
   "metadata": {},
   "outputs": [
    {
     "data": {
      "text/plain": [
       "[{'from': '2021-03-07T22:00Z',\n",
       "  'to': '2021-03-07T22:30Z',\n",
       "  'intensity': {'forecast': 237, 'actual': None, 'index': 'moderate'}}]"
      ]
     },
     "execution_count": 22,
     "metadata": {},
     "output_type": "execute_result"
    }
   ],
   "source": [
    "# json objects work as do any other dictionary in Python\n",
    "json=r.json()\n",
    "json['data']"
   ]
  },
  {
   "cell_type": "code",
   "execution_count": 23,
   "metadata": {},
   "outputs": [],
   "source": [
    "# get the actual intensity value:\n",
    "json['data'][0]['intensity']['actual']"
   ]
  },
  {
   "cell_type": "markdown",
   "metadata": {
    "slideshow": {
     "slide_type": "subslide"
    }
   },
   "source": [
    "<div class=\"alert alert-info\">\n",
    "<h3> Your turn</h3>\n",
    "        <li>Get Carbon Intensity factors for each fuel type\n",
    "        </li>\n",
    "        <li> Get Carbon Intensity data for current half hour for GB regions\n",
    "        </li>\n",
    "    </ul>\n",
    "\n",
    "</div>"
   ]
  },
  {
   "cell_type": "code",
   "execution_count": null,
   "metadata": {
    "slideshow": {
     "slide_type": "fragment"
    }
   },
   "outputs": [],
   "source": []
  },
  {
   "cell_type": "code",
   "execution_count": null,
   "metadata": {
    "slideshow": {
     "slide_type": "fragment"
    }
   },
   "outputs": [],
   "source": []
  },
  {
   "cell_type": "markdown",
   "metadata": {
    "slideshow": {
     "slide_type": "subslide"
    }
   },
   "source": [
    "### Query Parameters\n",
    "- cf. slide on `url`\n",
    "- used as filters you can send with your API request to further narrow down the responses."
   ]
  },
  {
   "cell_type": "code",
   "execution_count": 24,
   "metadata": {},
   "outputs": [],
   "source": [
    "# In the carbonintensity API, it works differently:\n",
    "from_=\"2018-08-25T12:35Z\"\n",
    "to=\"2018-08-25T13:35Z\"\n",
    "r = requests.get('https://api.carbonintensity.org.uk/regional/intensity/{}/{}'.format(from_, to), params={}, headers = headers)\n",
    "#pprint(r.json())"
   ]
  },
  {
   "cell_type": "markdown",
   "metadata": {
    "slideshow": {
     "slide_type": "slide"
    }
   },
   "source": [
    "## API Limitations\n",
    "To prevent collection of huge amount of individual data, many APIs require you to obtain “credentials” or codes/passwords that identify you and determine which types of data you are allowed to access. \n",
    "\n",
    "### API Credentials\n",
    "- Different methods/level of authentification exist\n",
    "    - API keys\n",
    "    - OAuth\n",
    "      \n",
    "###  Rate Limiting\n",
    "- The credentials also define how often we are allowed to make requests for data. \n",
    "- Be careful not to exceed the limits set by the API developers. "
   ]
  },
  {
   "cell_type": "markdown",
   "metadata": {
    "slideshow": {
     "slide_type": "subslide"
    }
   },
   "source": [
    "### API Keys\n",
    "\n",
    "- Most common level of authentication \n",
    "- These keys are used to identify you as an API user or customer and to trace your use of the API. \n",
    "- API keys are typically sent as a request header or as a query parameter.\n"
   ]
  },
  {
   "cell_type": "markdown",
   "metadata": {
    "slideshow": {
     "slide_type": "subslide"
    }
   },
   "source": [
    "### Example of API key authentification using the nasa API!!!"
   ]
  },
  {
   "cell_type": "code",
   "execution_count": 25,
   "metadata": {
    "slideshow": {
     "slide_type": "-"
    }
   },
   "outputs": [
    {
     "data": {
      "text/plain": [
       "<Response [200]>"
      ]
     },
     "execution_count": 25,
     "metadata": {},
     "output_type": "execute_result"
    }
   ],
   "source": [
    "endpoint = \"https://api.nasa.gov/mars-photos/api/v1/rovers/perseverance/photos\"\n",
    "# Replace DEMO_KEY below with your own key if you generated one.\n",
    "api_key = \"DEMO_KEY\"\n",
    "# You can add the API key to your request by appending the api_key= query parameter:\n",
    "query_params = {\"api_key\": api_key, \"earth_date\": \"2021-02-27\"}\n",
    "response = requests.get(endpoint, params=query_params)\n",
    "response"
   ]
  },
  {
   "cell_type": "markdown",
   "metadata": {},
   "source": [
    "Authentification was a success!"
   ]
  },
  {
   "cell_type": "code",
   "execution_count": 26,
   "metadata": {},
   "outputs": [
    {
     "name": "stdout",
     "output_type": "stream",
     "text": [
      "Found 193 photos\n"
     ]
    },
    {
     "data": {
      "text/plain": [
       "'https://mars.nasa.gov/mars2020-raw-images/pub/ods/surface/sol/00009/ids/edr/browse/ncam/NLE_0009_0667755636_926ECM_N0030000NCAM05000_15_0LLJ01_1200.jpg'"
      ]
     },
     "execution_count": 26,
     "metadata": {},
     "output_type": "execute_result"
    }
   ],
   "source": [
    "response.json()\n",
    "photos = response.json()[\"photos\"]\n",
    "print(f\"Found {len(photos)} photos\")\n",
    "photos[50][\"img_src\"]"
   ]
  },
  {
   "cell_type": "markdown",
   "metadata": {
    "slideshow": {
     "slide_type": "subslide"
    }
   },
   "source": [
    "<center>\n",
    "<img src=\"https://mars.nasa.gov/mars2020-raw-images/pub/ods/surface/sol/00009/ids/edr/browse/ncam/NRF_0009_0667756352_693ECM_N0030000NCAM05000_01_295J01_1200.jpg\">\n",
    "</center>"
   ]
  },
  {
   "cell_type": "markdown",
   "metadata": {
    "slideshow": {
     "slide_type": "subslide"
    }
   },
   "source": [
    "### More from Perseverance!\n",
    "\n",
    "[List](https://github.com/chrisccerami/mars-photo-api#cameras) of the different camera of perseverance. \n",
    "\n",
    "[Web application](https://mars-photos.herokuapp.com/)"
   ]
  },
  {
   "cell_type": "markdown",
   "metadata": {
    "slideshow": {
     "slide_type": "slide"
    }
   },
   "source": [
    "## General remarks\n",
    "- Start simple and expand your program incrementally.\n",
    "- Keep it simple. Do not overengineer the problem.\n",
    "- Do not repeat yourself. Code duplication implies bug reuse.\n",
    "- Limit the number of iterations for test runs. Use print statements toinspect objects.\n",
    "- Write tests to verify things work as intended.\n",
    "- If the web page cannot be navigated easily or has hidden javascript, look into Selenium.\n",
    "- If you scraper requires complex monitoring/validation procedures orthreading for performance, look into Python."
   ]
  },
  {
   "cell_type": "markdown",
   "metadata": {
    "slideshow": {
     "slide_type": "subslide"
    }
   },
   "source": [
    "## Class Survey\n",
    "Please fill in this [short survey](https://forms.gle/WwFmwqdJZScN3ceL8) about the class. \n",
    "\n",
    "## Homework on webscraping for next week"
   ]
  }
 ],
 "metadata": {
  "celltoolbar": "Slideshow",
  "kernelspec": {
   "display_name": "Python 3",
   "language": "python",
   "name": "python3"
  },
  "language_info": {
   "codemirror_mode": {
    "name": "ipython",
    "version": 3
   },
   "file_extension": ".py",
   "mimetype": "text/x-python",
   "name": "python",
   "nbconvert_exporter": "python",
   "pygments_lexer": "ipython3",
   "version": "3.8.5"
  },
  "toc": {
   "base_numbering": 1,
   "nav_menu": {},
   "number_sections": true,
   "sideBar": false,
   "skip_h1_title": true,
   "title_cell": "Table of Contents",
   "title_sidebar": "Contents",
   "toc_cell": false,
   "toc_position": {
    "height": "47.7167px",
    "left": "1694.1px",
    "top": "0px",
    "width": "158.9px"
   },
   "toc_section_display": false,
   "toc_window_display": false
  },
  "varInspector": {
   "chalkboard": {
    "color": "rgb(220, 133, 41)"
   },
   "cols": {
    "lenName": 16,
    "lenType": 16,
    "lenVar": 40
   },
   "kernels_config": {
    "python": {
     "delete_cmd_postfix": "",
     "delete_cmd_prefix": "del ",
     "library": "var_list.py",
     "varRefreshCmd": "print(var_dic_list())"
    },
    "r": {
     "delete_cmd_postfix": ") ",
     "delete_cmd_prefix": "rm(",
     "library": "var_list.r",
     "varRefreshCmd": "cat(var_dic_list()) "
    }
   },
   "types_to_exclude": [
    "module",
    "function",
    "builtin_function_or_method",
    "instance",
    "_Feature"
   ],
   "window_display": false
  }
 },
 "nbformat": 4,
 "nbformat_minor": 4
}
