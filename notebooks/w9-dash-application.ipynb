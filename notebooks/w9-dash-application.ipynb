{
 "cells": [
  {
   "cell_type": "markdown",
   "metadata": {
    "slideshow": {
     "slide_type": "slide"
    }
   },
   "source": [
    "# Big Data for Public Policy\n",
    "\n",
    "## Developing Data Visualization Interfaces: `DASH`\n",
    "\n",
    "## [Malka Guillot]()\n",
    "\n",
    "## ETH Zürich | [860-0033-00L](https://malkipp.github.io/big_data_policy_2021/)"
   ]
  },
  {
   "cell_type": "markdown",
   "metadata": {
    "slideshow": {
     "slide_type": "skip"
    },
    "toc": true
   },
   "source": [
    "<h1>Table of Contents<span class=\"tocSkip\"></span></h1>\n",
    "<div class=\"toc\"><ul class=\"toc-item\"><li><span><a href=\"#Developing-Data-Visualization-Interfaces:-DASH\" data-toc-modified-id=\"Developing-Data-Visualization-Interfaces:-DASH-1\">Developing Data Visualization Interfaces: <code>DASH</code></a></span></li><li><span><a href=\"#Malka-Guillot\" data-toc-modified-id=\"Malka-Guillot-2\"><a href=\"\" target=\"_blank\">Malka Guillot</a></a></span></li><li><span><a href=\"#ETH-Zürich-|-860-0033-00L\" data-toc-modified-id=\"ETH-Zürich-|-860-0033-00L-3\">ETH Zürich | <a href=\"https://malkipp.github.io/big_data_policy_2021/\" target=\"_blank\">860-0033-00L</a></a></span></li><li><span><a href=\"#Why-Data-Visualization-Interfaces?\" data-toc-modified-id=\"Why-Data-Visualization-Interfaces?-4\">Why Data Visualization Interfaces?</a></span><ul class=\"toc-item\"><li><span><a href=\"#What-is-a-dashboard-?\" data-toc-modified-id=\"What-is-a-dashboard-?-4.1\">What is a dashboard ?</a></span></li><li><span><a href=\"#Which-tools-do-we-need?\" data-toc-modified-id=\"Which-tools-do-we-need?-4.2\">Which tools do we need?</a></span></li><li><span><a href=\"#Why-Dash-?-user-friendly-+-cool-features\" data-toc-modified-id=\"Why-Dash-?-user-friendly-+-cool-features-4.3\">Why <code>Dash</code> ? user friendly + cool features</a></span></li></ul></li><li><span><a href=\"#Set-up\" data-toc-modified-id=\"Set-up-5\">Set up</a></span><ul class=\"toc-item\"><li><span><a href=\"#Install-packages\" data-toc-modified-id=\"Install-packages-5.1\">Install packages</a></span></li><li><span><a href=\"#Basic-inputs:\" data-toc-modified-id=\"Basic-inputs:-5.2\">Basic inputs:</a></span></li><li><span><a href=\"#Types-of-outputs\" data-toc-modified-id=\"Types-of-outputs-5.3\">Types of outputs</a></span></li><li><span><a href=\"#Interaction-of-Inputs-&amp;-Outputs\" data-toc-modified-id=\"Interaction-of-Inputs-&amp;-Outputs-5.4\">Interaction of Inputs &amp; Outputs</a></span></li></ul></li><li><span><a href=\"#Dash-Minimal-Example-(no-callback)\" data-toc-modified-id=\"Dash-Minimal-Example-(no-callback)-6\"><code>Dash</code> Minimal Example (no callback)</a></span><ul class=\"toc-item\"><li><span><a href=\"#Dash-Components\" data-toc-modified-id=\"Dash-Components-6.1\">Dash Components</a></span></li><li><span><a href=\"#Costumization-is-done-by-a-css-stylesheet\" data-toc-modified-id=\"Costumization-is-done-by-a-css-stylesheet-6.2\">Costumization is done by a <code>css</code> stylesheet</a></span></li><li><span><a href=\"#Toy-dataset\" data-toc-modified-id=\"Toy-dataset-6.3\">Toy dataset</a></span></li><li><span><a href=\"#Function-for-displaying-the-graph\" data-toc-modified-id=\"Function-for-displaying-the-graph-6.4\">Function for displaying the graph</a></span></li><li><span><a href=\"#Our-First-Dash-Application\" data-toc-modified-id=\"Our-First-Dash-Application-6.5\">Our First Dash Application</a></span></li></ul></li><li><span><a href=\"#Costum-vizualization\" data-toc-modified-id=\"Costum-vizualization-7\">Costum vizualization</a></span><ul class=\"toc-item\"><li><span><a href=\"#More-on-HTML-Components\" data-toc-modified-id=\"More-on-HTML-Components-7.1\">More on HTML Components</a></span></li><li><span><a href=\"#Markdown\" data-toc-modified-id=\"Markdown-7.2\">Markdown</a></span></li><li><span><a href=\"#Some-Core-Components\" data-toc-modified-id=\"Some-Core-Components-7.3\">Some Core Components</a></span></li></ul></li><li><span><a href=\"#Using-the-core-components-for-interacting-visualization\" data-toc-modified-id=\"Using-the-core-components-for-interacting-visualization-8\">Using the <code>core</code> components for interacting visualization</a></span><ul class=\"toc-item\"><li><span><a href=\"#Data-from-https://payroll-tax-inequality-app.herokuapp.com/\" data-toc-modified-id=\"Data-from-https://payroll-tax-inequality-app.herokuapp.com/-8.1\">Data from <a href=\"https://payroll-tax-inequality-app.herokuapp.com/\" target=\"_blank\">https://payroll-tax-inequality-app.herokuapp.com/</a></a></span></li><li><span><a href=\"#Some-vizualisation-setting\" data-toc-modified-id=\"Some-vizualisation-setting-8.2\">Some vizualisation setting</a></span></li><li><span><a href=\"#App-with-a-callback\" data-toc-modified-id=\"App-with-a-callback-8.3\">App with a callback</a></span></li><li><span><a href=\"#If-there-is-time:-your-turn-to-add-another-dropdown-element\" data-toc-modified-id=\"If-there-is-time:-your-turn-to-add-another-dropdown-element-8.4\">If there is time: your turn to add another dropdown element</a></span></li></ul></li><li><span><a href=\"#Going-Further:-Deployment-on-a-(remote)-Server\" data-toc-modified-id=\"Going-Further:-Deployment-on-a-(remote)-Server-9\">Going Further: Deployment on a (remote) Server</a></span><ul class=\"toc-item\"><li><span><a href=\"#Deployment-steps:\" data-toc-modified-id=\"Deployment-steps:-9.1\">Deployment steps:</a></span><ul class=\"toc-item\"><li><span><a href=\"#Your-project’s-structure-should-look-like-this\" data-toc-modified-id=\"Your-project’s-structure-should-look-like-this-9.1.1\">Your project’s structure should look like this</a></span></li></ul></li></ul></li></ul></div>"
   ]
  },
  {
   "cell_type": "markdown",
   "metadata": {
    "slideshow": {
     "slide_type": "slide"
    }
   },
   "source": [
    "## Why Data Visualization Interfaces? "
   ]
  },
  {
   "cell_type": "markdown",
   "metadata": {},
   "source": [
    "- For (scientific) dissemination\n",
    "- Example: \n",
    "    - https://payroll-tax-inequality-app.herokuapp.com/\n",
    "    - https://observablehq.com/\n"
   ]
  },
  {
   "cell_type": "markdown",
   "metadata": {
    "slideshow": {
     "slide_type": "subslide"
    }
   },
   "source": [
    "### What is a dashboard ?\n",
    "- Data visualization platform\n",
    "- Online\n",
    "- Interactive"
   ]
  },
  {
   "cell_type": "markdown",
   "metadata": {
    "slideshow": {
     "slide_type": "fragment"
    }
   },
   "source": [
    "### Which tools do we need?\n",
    "\n",
    "<span class=\"image\">\n",
    "  <table align=\"center\">\n",
    "    <tr>\n",
    "      <th><a><img src=\"https://blog.savoirfairelinux.com/fr-ca/wp-content/uploads/2017/11/Python-Logo-PNG-Image-300x150.png\" style=\"width: 180px; margin-bottom: 5px; \" ></a><br><a href=\"\"></a> </th>\n",
    "      <th><a><img src=\"https://rapids.ai/assets/images/Plotly_Dash_logo.png\" style=\"width: 180px; margin-bottom: 5px; \" ></a><br><a href=\"\"></a> </th>\n",
    "      <th><a><img src=\"https://uploads-ssl.webflow.com/5de176c0d41c9b4a1dbbb0aa/5fe719c40db7fa2e3bea6855_heroku_logo.png\" style=\"width: 180px; margin-bottom: 5px; \" ></a><br><a href=\"\"></a> </th>\n",
    "    </tr>      \n",
    "\n",
    "  </table>\n",
    "</span>"
   ]
  },
  {
   "cell_type": "markdown",
   "metadata": {},
   "source": [
    "### Why `Dash` ? user friendly + cool features\n",
    "- Interactive and responsive graphs. \n",
    "- Hover over points to see their values, \n",
    "- click on legend items to toggle traces, \n",
    "- click and drag to zoom\n",
    "\n",
    "References: [tutorial](https://realpython.com/python-dash/?utm_campaign=Newsletter%20Veille%20Data&utm_medium=email&utm_source=Revue%20newsletter), [documentation](https://dash.plotly.com/)"
   ]
  },
  {
   "cell_type": "markdown",
   "metadata": {
    "slideshow": {
     "slide_type": "slide"
    }
   },
   "source": [
    "## Set up\n",
    "### Install packages"
   ]
  },
  {
   "cell_type": "code",
   "execution_count": null,
   "metadata": {},
   "outputs": [],
   "source": [
    "# !pip install dash\n",
    "# !pip install jupyter-dash"
   ]
  },
  {
   "cell_type": "markdown",
   "metadata": {
    "slideshow": {
     "slide_type": "subslide"
    }
   },
   "source": [
    "### Basic inputs:\n",
    "\n",
    "<img src=\"http://res.cloudinary.com/dyd911kmh/image/upload/f_auto,q_auto:best/v1529701951/plot3_pdytlm.png\" style=\"width: 880px; margin-bottom: 5px; \" >\n"
   ]
  },
  {
   "cell_type": "markdown",
   "metadata": {
    "slideshow": {
     "slide_type": "subslide"
    }
   },
   "source": [
    "### Types of outputs\n",
    "\n",
    "- tables\n",
    "- 2-dimensional graphs: line, bar, pie charts\n",
    "- 3-dimensional graphs: contour plots, heat maps\n",
    "- geographical maps\n",
    "- networks\n",
    "\n",
    "High customization possibilities with Matplotlib, even more with Plotly, Highcharts"
   ]
  },
  {
   "cell_type": "markdown",
   "metadata": {
    "slideshow": {
     "slide_type": "subslide"
    }
   },
   "source": [
    "### Interaction of Inputs & Outputs"
   ]
  },
  {
   "cell_type": "markdown",
   "metadata": {},
   "source": [
    "<img src=\"https://miro.medium.com/max/1395/1*OwNszE5e3MLK5izCPXZCbQ.png\" style=\"width: 880px; margin-bottom: 5px; \" >\n"
   ]
  },
  {
   "cell_type": "markdown",
   "metadata": {
    "slideshow": {
     "slide_type": "slide"
    }
   },
   "source": [
    "## `Dash` Minimal Example (no callback)"
   ]
  },
  {
   "cell_type": "markdown",
   "metadata": {
    "slideshow": {
     "slide_type": "subslide"
    }
   },
   "source": [
    "### Dash Components\n",
    "\n",
    "- HTML components: Python wrappers for HTML elements. \n",
    "    - For example: paragraphs, headings, or lists.\n",
    "    \n",
    "- Core components: Python abstractions for creating interactive user interfaces\n",
    "    - For example: graphs, sliders, or dropdowns"
   ]
  },
  {
   "cell_type": "code",
   "execution_count": null,
   "metadata": {
    "slideshow": {
     "slide_type": "-"
    }
   },
   "outputs": [],
   "source": [
    "from jupyter_dash import JupyterDash\n",
    "import dash\n",
    "JupyterDash.infer_jupyter_proxy_config()\n",
    "\n",
    "# For interactive components like graphs, dropdowns, or date ranges.\n",
    "import dash_core_components as dcc \n",
    "\n",
    "# For HTML tags\n",
    "import dash_html_components as html\n",
    "\n",
    "from dash.dependencies import Input, Output\n",
    "\n",
    "import pandas as pd\n",
    "\n",
    "import plotly.express as px # For graphics"
   ]
  },
  {
   "cell_type": "markdown",
   "metadata": {
    "slideshow": {
     "slide_type": "subslide"
    }
   },
   "source": [
    "### Costumization is done by a `css` stylesheet"
   ]
  },
  {
   "cell_type": "code",
   "execution_count": null,
   "metadata": {},
   "outputs": [],
   "source": [
    "external_stylesheets = ['https://codepen.io/chriddyp/pen/bWLwgP.css']"
   ]
  },
  {
   "cell_type": "markdown",
   "metadata": {
    "slideshow": {
     "slide_type": "subslide"
    }
   },
   "source": [
    "### Toy dataset"
   ]
  },
  {
   "cell_type": "code",
   "execution_count": null,
   "metadata": {},
   "outputs": [],
   "source": [
    "# assume you have a \"long-form\" data frame\n",
    "# see https://plotly.com/python/px-arguments/ for more options\n",
    "df = pd.DataFrame({\n",
    "    \"Fruit\": [\"Apples\", \"Oranges\", \"Bananas\", \"Apples\", \"Oranges\", \"Bananas\"],\n",
    "    \"Amount\": [4, 1, 2, 2, 4, 5],\n",
    "    \"City\": [\"SF\", \"SF\", \"SF\", \"Montreal\", \"Montreal\", \"Montreal\"]\n",
    "})\n"
   ]
  },
  {
   "cell_type": "markdown",
   "metadata": {},
   "source": [
    "### Function for displaying the graph"
   ]
  },
  {
   "cell_type": "code",
   "execution_count": null,
   "metadata": {},
   "outputs": [],
   "source": [
    "from IPython import display\n",
    "import os\n",
    "def show_app(app, port = 9999, \n",
    "             width = 700, \n",
    "             height = 350, \n",
    "             offline = False,\n",
    "            in_binder = None):\n",
    "    in_binder ='JUPYTERHUB_SERVICE_PREFIX' in os.environ if in_binder is None else in_binder\n",
    "    if in_binder:\n",
    "        base_prefix = '{}proxy/{}/'.format(os.environ['JUPYTERHUB_SERVICE_PREFIX'], port)\n",
    "        url = 'https://hub.mybinder.org{}'.format(base_prefix)\n",
    "        app.config.requests_pathname_prefix = base_prefix\n",
    "    else:\n",
    "        url = 'http://localhost:%d' % port\n",
    "        \n",
    "    iframe = '<a href=\"{url}\" target=\"_new\">Open in new window</a><hr><iframe src=\"{url}\" width={width} height={height}></iframe>'.format(url = url, \n",
    "                                                                                  width = width, \n",
    "                                                                                  height = height)\n",
    "    \n",
    "    display.display_html(iframe, raw = True)\n",
    "    if offline:\n",
    "        app.css.config.serve_locally = True\n",
    "        app.scripts.config.serve_locally = True\n",
    "    return app.run_server(debug=False, # needs to be false in Jupyter\n",
    "                          host = '0.0.0.0',\n",
    "                          port=port)\n"
   ]
  },
  {
   "cell_type": "markdown",
   "metadata": {
    "slideshow": {
     "slide_type": "subslide"
    }
   },
   "source": [
    "### Our First Dash Application"
   ]
  },
  {
   "cell_type": "code",
   "execution_count": null,
   "metadata": {},
   "outputs": [],
   "source": [
    "# Initializing the dash object\n",
    "app = dash.Dash(external_stylesheets=external_stylesheets)\n",
    "\n",
    "# the code of the graphics\n",
    "fig = px.bar(df, x=\"Fruit\", y=\"Amount\", color=\"City\", barmode=\"group\")\n",
    "\n",
    "# Application layout: main meat of the application\n",
    "app.layout = html.Div(children=[\n",
    "    html.H1(children='Hello Dash'),\n",
    "\n",
    "    html.Div(children='''\n",
    "        Dash: A web application framework for Python [Example].\n",
    "    '''),\n",
    "\n",
    "    dcc.Graph(\n",
    "        id='example-graph',\n",
    "        figure=fig\n",
    "    )\n",
    "])"
   ]
  },
  {
   "cell_type": "code",
   "execution_count": null,
   "metadata": {},
   "outputs": [],
   "source": [
    "# app.run_server() # simple function to run the app on a local server"
   ]
  },
  {
   "cell_type": "code",
   "execution_count": null,
   "metadata": {},
   "outputs": [],
   "source": [
    "show_app(app, port=9000) # more complex parametrized function to run the app on a local server"
   ]
  },
  {
   "cell_type": "markdown",
   "metadata": {},
   "source": [
    "## Costum vizualization"
   ]
  },
  {
   "cell_type": "code",
   "execution_count": null,
   "metadata": {},
   "outputs": [],
   "source": [
    "colors = {\n",
    "    'background': '#111111',\n",
    "    'text': '#7FDBFF'\n",
    "}"
   ]
  },
  {
   "cell_type": "code",
   "execution_count": null,
   "metadata": {},
   "outputs": [],
   "source": [
    "app = dash.Dash(__name__, external_stylesheets=external_stylesheets)\n",
    "\n",
    "# load data \n",
    "df = pd.read_csv('https://gist.githubusercontent.com/chriddyp/5d1ea79569ed194d432e56108a04d188/raw/a9f9e8076b837d541398e999dcbac2b2826a81f8/gdp-life-exp-2007.csv')\n",
    "\n",
    "fig = px.scatter(df, x=\"gdp per capita\", y=\"life expectancy\",\n",
    "                 size=\"population\", color=\"continent\", hover_name=\"country\",\n",
    "                 log_x=True, size_max=60)\n",
    "\n",
    "# -- New --\n",
    "fig.update_layout(\n",
    "    plot_bgcolor=colors['background'],\n",
    "    paper_bgcolor=colors['background'],\n",
    "    font_color=colors['text']\n",
    ")\n",
    "# ----\n",
    "\n",
    "app.layout = html.Div([\n",
    "    dcc.Graph(\n",
    "        id='life-exp-vs-gdp',\n",
    "        figure=fig\n",
    "    )\n",
    "])\n",
    "\n",
    "show_app(app, port=9001)"
   ]
  },
  {
   "cell_type": "markdown",
   "metadata": {
    "slideshow": {
     "slide_type": "subslide"
    }
   },
   "source": [
    "### More on HTML Components\n",
    "The `dash_html_components` includes a component class for every HTML tag as well as keyword arguments for all of the HTML arguments.\n",
    "\n",
    "Let's add `H1` (title) & `Div` (some text) tags:"
   ]
  },
  {
   "cell_type": "code",
   "execution_count": null,
   "metadata": {},
   "outputs": [],
   "source": [
    "app = dash.Dash(__name__, external_stylesheets=external_stylesheets)\n",
    "\n",
    "# load data \n",
    "df = pd.read_csv('https://gist.githubusercontent.com/chriddyp/5d1ea79569ed194d432e56108a04d188/raw/a9f9e8076b837d541398e999dcbac2b2826a81f8/gdp-life-exp-2007.csv')\n",
    "\n",
    "fig = px.scatter(df, x=\"gdp per capita\", y=\"life expectancy\",\n",
    "                 size=\"population\", color=\"continent\", hover_name=\"country\",\n",
    "                 log_x=True, size_max=60)\n",
    "\n",
    "fig.update_layout(\n",
    "    plot_bgcolor=colors['background'],\n",
    "    paper_bgcolor=colors['background'],\n",
    "    font_color=colors['text']\n",
    ")\n",
    "\n",
    "\n",
    "app.layout = html.Div(\n",
    "    \n",
    "    # -- New --\n",
    "    \n",
    "    style={'backgroundColor': colors['background']}, children=[\n",
    "    html.H1( # H1 is HTML tag for main title\n",
    "        children='Costumized title',\n",
    "        style={\n",
    "            'textAlign': 'right',\n",
    "            'color': colors['text']\n",
    "        }\n",
    "    ),\n",
    "\n",
    "    html.Div(children='Some descriptive text.', style={\n",
    "        'textAlign': 'center',\n",
    "        'color': colors['text']\n",
    "    }),\n",
    "        \n",
    "    # ----\n",
    "        \n",
    "    dcc.Graph(\n",
    "        id='life-exp-vs-gdp',\n",
    "        figure=fig\n",
    "    )\n",
    "])"
   ]
  },
  {
   "cell_type": "code",
   "execution_count": null,
   "metadata": {},
   "outputs": [],
   "source": [
    "show_app(app, port=9000)"
   ]
  },
  {
   "cell_type": "markdown",
   "metadata": {},
   "source": [
    "### Markdown"
   ]
  },
  {
   "cell_type": "code",
   "execution_count": null,
   "metadata": {},
   "outputs": [],
   "source": [
    "external_stylesheets = ['https://codepen.io/chriddyp/pen/bWLwgP.css']\n",
    "\n",
    "app = dash.Dash(__name__, external_stylesheets=external_stylesheets)\n",
    "\n",
    "# -- New --\n",
    "markdown_text = '''\n",
    "## Title of the graphic\n",
    "\n",
    "Dash apps can be written in Markdown (if needed: [60 Second Markdown Tutorial](http://commonmark.org/help/))\n",
    "'''\n",
    "# ----\n",
    " \n",
    "app.layout = html.Div([\n",
    "    # -- New --\n",
    "    dcc.Markdown(children=markdown_text)\n",
    "    # ----\n",
    "])\n",
    "\n",
    "# load data \n",
    "df = pd.read_csv('https://gist.githubusercontent.com/chriddyp/5d1ea79569ed194d432e56108a04d188/raw/a9f9e8076b837d541398e999dcbac2b2826a81f8/gdp-life-exp-2007.csv')\n",
    "\n",
    "fig = px.scatter(df, x=\"gdp per capita\", y=\"life expectancy\",\n",
    "                 size=\"population\", color=\"continent\", hover_name=\"country\",\n",
    "                 log_x=True, size_max=60)\n",
    "\n",
    "app.layout = html.Div([\n",
    "\n",
    "    # -- New --\n",
    "    dcc.Markdown(children=markdown_text), # We add some markdown    \n",
    "    # ----\n",
    "    \n",
    "    dcc.Graph(\n",
    "        id='life-exp-vs-gdp',\n",
    "        figure=fig\n",
    "    ), \n",
    "])"
   ]
  },
  {
   "cell_type": "code",
   "execution_count": null,
   "metadata": {},
   "outputs": [],
   "source": [
    "show_app(app)"
   ]
  },
  {
   "cell_type": "markdown",
   "metadata": {},
   "source": [
    "### Some Core Components"
   ]
  },
  {
   "cell_type": "code",
   "execution_count": null,
   "metadata": {},
   "outputs": [],
   "source": [
    "app = dash.Dash( external_stylesheets=external_stylesheets)\n",
    "\n",
    "app.layout = html.Div([\n",
    "    html.Label('Dropdown'),\n",
    "    dcc.Dropdown(\n",
    "        options=[\n",
    "            {'label': 'New York City', 'value': 'NYC'},\n",
    "            {'label': u'Montréal', 'value': 'MTL'},\n",
    "            {'label': 'San Francisco', 'value': 'SF'}\n",
    "        ],\n",
    "        value='MTL'\n",
    "    ),\n",
    "\n",
    "    html.Label('Multi-Select Dropdown'),\n",
    "    dcc.Dropdown(\n",
    "        options=[\n",
    "            {'label': 'New York City', 'value': 'NYC'},\n",
    "            {'label': u'Montréal', 'value': 'MTL'},\n",
    "            {'label': 'San Francisco', 'value': 'SF'}\n",
    "        ],\n",
    "        value=['MTL', 'SF'],\n",
    "        multi=True\n",
    "    ),\n",
    "\n",
    "    html.Label('Radio Items'),\n",
    "    dcc.RadioItems(\n",
    "        options=[\n",
    "            {'label': 'New York City', 'value': 'NYC'},\n",
    "            {'label': u'Montréal', 'value': 'MTL'},\n",
    "            {'label': 'San Francisco', 'value': 'SF'}\n",
    "        ],\n",
    "        value='MTL'\n",
    "    ),\n",
    "\n",
    "    html.Label('Checkboxes'),\n",
    "    dcc.Checklist(\n",
    "        options=[\n",
    "            {'label': 'New York City', 'value': 'NYC'},\n",
    "            {'label': u'Montréal', 'value': 'MTL'},\n",
    "            {'label': 'San Francisco', 'value': 'SF'}\n",
    "        ],\n",
    "        value=['MTL', 'SF']\n",
    "    ),\n",
    "\n",
    "    html.Label('Text Input'),\n",
    "    dcc.Input(value='MTL', type='text'),\n",
    "\n",
    "    html.Label('Slider'),\n",
    "    dcc.Slider(\n",
    "        min=0,\n",
    "        max=9,\n",
    "        marks={i: 'Label {}'.format(i) if i == 1 else str(i) for i in range(1, 6)},\n",
    "        value=5,\n",
    "    ),\n",
    "], style={'columnCount': 2})\n",
    "\n",
    "show_app(app)"
   ]
  },
  {
   "cell_type": "markdown",
   "metadata": {
    "slideshow": {
     "slide_type": "slide"
    }
   },
   "source": [
    "## Using the `core` components for interacting visualization"
   ]
  },
  {
   "cell_type": "markdown",
   "metadata": {},
   "source": [
    "### Data from https://payroll-tax-inequality-app.herokuapp.com/"
   ]
  },
  {
   "cell_type": "code",
   "execution_count": null,
   "metadata": {},
   "outputs": [],
   "source": [
    "### RATIO DATA\n",
    "df_s=pd.read_stata( \"https://www.dropbox.com/s/f7vve7xpln5xtf7/ratio_reshaped_stata.dta?dl=1\")\n",
    "\n",
    "sex_samples = [i for i in df_s['sex'].unique()]\n",
    "sex_labels=[\"Women\", \"Men\", \"Men and Women\"]\n",
    "\n",
    "income_label={'sn': \"Net wage\",\n",
    "           'sb': \"Gross wage\",\n",
    "           'ssb': \"Labor cost\",\n",
    "           }"
   ]
  },
  {
   "cell_type": "markdown",
   "metadata": {
    "slideshow": {
     "slide_type": "subslide"
    }
   },
   "source": [
    "### Some vizualisation setting"
   ]
  },
  {
   "cell_type": "code",
   "execution_count": null,
   "metadata": {},
   "outputs": [],
   "source": [
    "from plotly.validators.scatter.marker import SymbolValidator\n",
    "symbols=[]\n",
    "raw_symbols = SymbolValidator().values\n",
    "for i in range(0,len(raw_symbols),2):\n",
    "    raw_symbols[i+1]\n",
    "    symbols.append(raw_symbols[i])\n",
    "dic_ratio_symbol={i:j for i, j in zip(ratios,symbols[:len(ratios)])}\n",
    "external_stylesheets = ['https://codepen.io/chriddyp/pen/bWLwgP.css']"
   ]
  },
  {
   "cell_type": "markdown",
   "metadata": {
    "slideshow": {
     "slide_type": "subslide"
    }
   },
   "source": [
    "### App with a callback"
   ]
  },
  {
   "cell_type": "code",
   "execution_count": null,
   "metadata": {},
   "outputs": [],
   "source": [
    "app = dash.Dash(__name__, external_stylesheets=external_stylesheets)\n",
    "\n",
    "####################\n",
    "app.layout = html.Div([\n",
    "    dcc.Markdown(children='''### Wage Inequality Ratios in France'''), \n",
    "        \n",
    "    dcc.Markdown(children='''### Sample Choice'''), \n",
    "    html.Div([\n",
    "        html.H6(\"\"\"Gender\"\"\",  style={'width': '29%','display':'inline-block','margin-left': '0em'}),\n",
    "        dcc.Dropdown(\n",
    "            id='sex_sample',\n",
    "            options=[{'label': i, 'value': j} for i, j in zip(sex_labels, sex_samples)],\n",
    "            value='hommes_femmes',\n",
    "            style=dict(\n",
    "                width='69%',\n",
    "                verticalAlign=\"middle\",\n",
    "               display= 'inline-block'\n",
    "            )            \n",
    "        ),\n",
    "    ],),\n",
    "       \n",
    "    html.Div([\n",
    "        dcc.Graph(id='inequality-ratio')\n",
    "    ]),\n",
    "\n",
    "],\n",
    ")\n",
    "\n",
    "# The callback component\n",
    "@app.callback(\n",
    "    Output('inequality-ratio', 'figure'), # the graph (output)\n",
    "    [Input('sex_sample', 'value'),  # argument of the graph (input), from dcc.Dropdown\n",
    "    ])\n",
    "\n",
    "def update_figure(sex_sample):\n",
    "    \n",
    "    # The main component of the graphic\n",
    "    traces = []\n",
    "    \n",
    "    # some data steps depending on the parameters:\n",
    "    df_filt= df_s[(df_s['ratio']==\"d9_d1\") & (df_s['sex']==sex_sample) & (df_s['keep']==\"FTFY\")  & (df_s['ln_']==True)]\n",
    "\n",
    "    # Add an element to the trace for each income concept:\n",
    "    for i in df_s['income_concept'].unique():\n",
    "        # A trace element is defined as a dictionary\n",
    "        traces.append(dict(\n",
    "            x=df_filt[ (df_filt['income_concept'] == i)]['an'],\n",
    "            y=df_filt[ (df_filt['income_concept'] == i)]['value'],\n",
    "            text=df_filt[df_filt['income_concept'] == i]['income_concept'],\n",
    "            mode='lines+markers',\n",
    "            opacity=0.7,\n",
    "            marker={\n",
    "                'symbol':dic_ratio_symbol[\"d9_d1\"],\n",
    "                'size': 15,\n",
    "                'line': {'width': 0.5, 'color': 'white'}\n",
    "            },\n",
    "            name=income_label[i]\n",
    "        ))\n",
    "    return {\n",
    "        'data': traces,\n",
    "        'layout': dict(\n",
    "            xaxis={'type': 'linear', 'title': 'Year', \n",
    "                   \"titlefont\": {\"size\": 26,}, \n",
    "                   \"tickfont\": {\"size\": 16,}, \n",
    "                   'dtick': 5,\n",
    "                   'automargin': True\n",
    "                 },\n",
    "            yaxis={'title': 'Inequality ratio (in log)', \n",
    "                   \"titlefont\": {\"size\": 26,},\n",
    "                  \"tickfont\": {\"size\": 16,}, \n",
    "                   'automargin': True\n",
    "                  },\n",
    "            margin={'l': 40, 'b': 40, 't': 10, 'r': 10},\n",
    "            legend={'font':{\"size\": 16,}},\n",
    "            hovermode='closest',\n",
    "        )\n",
    "    }\n"
   ]
  },
  {
   "cell_type": "code",
   "execution_count": null,
   "metadata": {},
   "outputs": [],
   "source": [
    "app.run_server()"
   ]
  },
  {
   "cell_type": "markdown",
   "metadata": {},
   "source": [
    "### If there is time: your turn to add another dropdown element"
   ]
  },
  {
   "cell_type": "code",
   "execution_count": null,
   "metadata": {},
   "outputs": [],
   "source": [
    "ratio_labels=[\n",
    "    'P90-P10',\n",
    "    'P90-P50', \n",
    "    'P50-P10'\n",
    "]\n",
    "ratios = [i for i in df_s['ratio'].unique()]\n",
    "keep_samples=df_s['keep'].unique()\n",
    "keep_samples=[i for i in keep_samples]\n",
    "keep_labels=['Working full-time','Working full-time full-year','All workers']\n",
    "title = '''\n",
    "The Contribution of Payroll Taxation to Wage Inequality in France\n",
    "'''"
   ]
  },
  {
   "cell_type": "code",
   "execution_count": null,
   "metadata": {},
   "outputs": [],
   "source": []
  },
  {
   "cell_type": "code",
   "execution_count": null,
   "metadata": {},
   "outputs": [],
   "source": [
    "app.run_server()"
   ]
  },
  {
   "cell_type": "markdown",
   "metadata": {
    "slideshow": {
     "slide_type": "slide"
    }
   },
   "source": [
    "## Going Further: Deployment on a (remote) Server"
   ]
  },
  {
   "cell_type": "markdown",
   "metadata": {},
   "source": [
    "- so far, we had been running our app on a local server\n",
    "- How can we make it accessible to others? \n",
    "    - *Deploy* it on a remote server \n",
    "    - for example: `Heroku`"
   ]
  },
  {
   "cell_type": "markdown",
   "metadata": {
    "slideshow": {
     "slide_type": "subslide"
    }
   },
   "source": [
    "### Deployment steps:"
   ]
  },
  {
   "cell_type": "markdown",
   "metadata": {
    "slideshow": {
     "slide_type": "fragment"
    }
   },
   "source": [
    "1. **Install** `git` & `heroku` => check installation in the terminal by running:\n",
    "```\n",
    "git --version \n",
    "heroku --version\n",
    "```\n",
    "\n",
    "You need to keep all the files into an app directory (that will be send to `heroku`)"
   ]
  },
  {
   "cell_type": "markdown",
   "metadata": {
    "slideshow": {
     "slide_type": "fragment"
    }
   },
   "source": [
    "2. Create a python script called `app.py`, with the following lines (new relative to local server):\n",
    "\n",
    "```\n",
    "app = dash.Dash(__name__, external_stylesheets=external_stylesheets)\n",
    "server = app.server # NEW\n",
    "```"
   ]
  },
  {
   "cell_type": "markdown",
   "metadata": {
    "slideshow": {
     "slide_type": "subslide"
    }
   },
   "source": [
    "3. In the project’s root directory:\n",
    "\n",
    " - Create a file called `runtime.txt` where you’ll specify a Python version for your Heroku app: \n",
    "```\n",
    "python-3.8.6\n",
    "```\n",
    "\n"
   ]
  },
  {
   "cell_type": "markdown",
   "metadata": {
    "slideshow": {
     "slide_type": "fragment"
    }
   },
   "source": [
    " - Create a file called `requirements.txt` : list libraries required to set up your Dash application on a web server \n",
    "    \n",
    "```\n",
    "dash==1.13.3\n",
    "pandas==1.0.5\n",
    "gunicorn==20.0.4\n",
    "```\n",
    "\n",
    "We need `gunicorn` (NEW)"
   ]
  },
  {
   "cell_type": "markdown",
   "metadata": {
    "slideshow": {
     "slide_type": "fragment"
    }
   },
   "source": [
    " - create a file named `Procfile` with the following content:\n",
    "\n",
    "```\n",
    "web: gunicorn app:server\n",
    "```\n",
    "\n",
    "This file tells the Heroku app what commands should be executed to start your app. In this case, it starts a gunicorn server for your dashboard."
   ]
  },
  {
   "cell_type": "markdown",
   "metadata": {
    "slideshow": {
     "slide_type": "subslide"
    }
   },
   "source": [
    "#### Your project’s structure should look like this"
   ]
  },
  {
   "cell_type": "markdown",
   "metadata": {},
   "source": [
    "your_project/\n",
    "│\n",
    "│\n",
    "├── venv/\n",
    "│\n",
    "├── app.py\n",
    "├── data.csv\n",
    "├── Procfile\n",
    "├── requirements.txt\n",
    "└── runtime.txt"
   ]
  },
  {
   "cell_type": "markdown",
   "metadata": {
    "slideshow": {
     "slide_type": "subslide"
    }
   },
   "source": [
    "5. In a terminal at the root directory of the project, \n",
    "    - initialize the git repository with\n",
    "    ```\n",
    "    git init\n",
    "    ```\n",
    "    - Add & commit files project files:\n",
    "    ```\n",
    "    git add .\n",
    "    git commit -m 'Add dashboard files'\n",
    "    ```"
   ]
  },
  {
   "cell_type": "markdown",
   "metadata": {
    "slideshow": {
     "slide_type": "subslide"
    }
   },
   "source": [
    "6. Last step: the **Heroku application**:\n",
    "    - create an app in Heroku (on the online platform) or by running:\n",
    "    \n",
    "    ```heroku create APP-NAME # Choose a name for your app\n",
    "    ```\n",
    "    \n",
    "    - push your code there using git\n",
    "    \n",
    "    ```\n",
    "    push heroku master\n",
    "    ```\n",
    "    \n",
    "    - start the app in one of Heroku's free server option\n",
    "    \n",
    "    ```\n",
    "    heroku ps:scale web=1\n",
    "    ```\n",
    "    \n",
    "    - look at your app :\n",
    "    https://APP-NAME.herokuapp.com/"
   ]
  }
 ],
 "metadata": {
  "celltoolbar": "Slideshow",
  "kernelspec": {
   "display_name": "Python 3",
   "language": "python",
   "name": "python3"
  },
  "language_info": {
   "codemirror_mode": {
    "name": "ipython",
    "version": 3
   },
   "file_extension": ".py",
   "mimetype": "text/x-python",
   "name": "python",
   "nbconvert_exporter": "python",
   "pygments_lexer": "ipython3",
   "version": "3.6.9"
  },
  "toc": {
   "base_numbering": 1,
   "nav_menu": {},
   "number_sections": false,
   "sideBar": true,
   "skip_h1_title": true,
   "title_cell": "Table of Contents",
   "title_sidebar": "Contents",
   "toc_cell": true,
   "toc_position": {
    "height": "890px",
    "left": "237px",
    "top": "67.1333px",
    "width": "281.667px"
   },
   "toc_section_display": true,
   "toc_window_display": false
  },
  "varInspector": {
   "cols": {
    "lenName": 16,
    "lenType": 16,
    "lenVar": 40
   },
   "kernels_config": {
    "python": {
     "delete_cmd_postfix": "",
     "delete_cmd_prefix": "del ",
     "library": "var_list.py",
     "varRefreshCmd": "print(var_dic_list())"
    },
    "r": {
     "delete_cmd_postfix": ") ",
     "delete_cmd_prefix": "rm(",
     "library": "var_list.r",
     "varRefreshCmd": "cat(var_dic_list()) "
    }
   },
   "types_to_exclude": [
    "module",
    "function",
    "builtin_function_or_method",
    "instance",
    "_Feature"
   ],
   "window_display": false
  }
 },
 "nbformat": 4,
 "nbformat_minor": 2
}
